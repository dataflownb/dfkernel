{
 "cells": [
  {
   "cell_type": "markdown",
   "id": "5ba2066e-1c41-4ee8-a0ac-dbae4b1783c2",
   "metadata": {},
   "source": [
    "# Soccer Example"
   ]
  },
  {
   "cell_type": "markdown",
   "id": "5500522f-71cb-4619-8e1a-cb303cd8bdb5",
   "metadata": {
    "jp-MarkdownHeadingCollapsed": true
   },
   "source": [
    "## Part 1"
   ]
  },
  {
   "cell_type": "markdown",
   "id": "1f774ea8-9dda-4ef1-922a-6800ed100a74",
   "metadata": {},
   "source": [
    "First, we import pandas and dataflow notebooks automatically recognizes that it needs to be used in the output for future reference. The same happens on the last line of a cell as seen when we read our file into our df variable. This cell automatically generates an ID."
   ]
  },
  {
   "cell_type": "code",
   "execution_count": 285220287,
   "id": "11001dbf-d690-468c-bab0-da2a80055be0",
   "metadata": {
    "dfmetadata": {
     "inputVars": {
      "ref": {},
      "tag_refs": {}
     },
     "outputVars": [
      "pd",
      "df"
     ],
     "persistentCode": "import pandas as pd\ndf = pd.read_csv(\"datasets/fifa17-top20-women-fixed.txt\",sep=\"-\",header=None)",
     "tag": ""
    }
   },
   "outputs": [
    {
     "data": {
      "text/plain": [
       "<module 'pandas' from 'C:\\\\Users\\\\bpohl\\\\anaconda3\\\\envs\\\\rammdocs\\\\lib\\\\site-packages\\\\pandas\\\\__init__.py'>"
      ]
     },
     "execution_count": 285220287,
     "metadata": {
      "output_tag": "pd"
     },
     "output_type": "execute_result"
    },
    {
     "data": {
      "text/html": [
       "<div>\n",
       "<style scoped>\n",
       "    .dataframe tbody tr th:only-of-type {\n",
       "        vertical-align: middle;\n",
       "    }\n",
       "\n",
       "    .dataframe tbody tr th {\n",
       "        vertical-align: top;\n",
       "    }\n",
       "\n",
       "    .dataframe thead th {\n",
       "        text-align: right;\n",
       "    }\n",
       "</style>\n",
       "<table border=\"1\" class=\"dataframe\">\n",
       "  <thead>\n",
       "    <tr style=\"text-align: right;\">\n",
       "      <th></th>\n",
       "      <th>0</th>\n",
       "      <th>1</th>\n",
       "      <th>2</th>\n",
       "    </tr>\n",
       "  </thead>\n",
       "  <tbody>\n",
       "    <tr>\n",
       "      <th>0</th>\n",
       "      <td>Caroline Seger</td>\n",
       "      <td>Sweden</td>\n",
       "      <td>85</td>\n",
       "    </tr>\n",
       "    <tr>\n",
       "      <th>1</th>\n",
       "      <td>Wendie Renard</td>\n",
       "      <td>France</td>\n",
       "      <td>85</td>\n",
       "    </tr>\n",
       "    <tr>\n",
       "      <th>2</th>\n",
       "      <td>Steph Houghton</td>\n",
       "      <td>England</td>\n",
       "      <td>85</td>\n",
       "    </tr>\n",
       "    <tr>\n",
       "      <th>3</th>\n",
       "      <td>Sophie Schmidt</td>\n",
       "      <td>Canada</td>\n",
       "      <td>85</td>\n",
       "    </tr>\n",
       "    <tr>\n",
       "      <th>4</th>\n",
       "      <td>Erin McLeod</td>\n",
       "      <td>Canada</td>\n",
       "      <td>85</td>\n",
       "    </tr>\n",
       "    <tr>\n",
       "      <th>5</th>\n",
       "      <td>Rosana</td>\n",
       "      <td>Brazil</td>\n",
       "      <td>85</td>\n",
       "    </tr>\n",
       "    <tr>\n",
       "      <th>6</th>\n",
       "      <td>Cristiane</td>\n",
       "      <td>Brazil</td>\n",
       "      <td>85</td>\n",
       "    </tr>\n",
       "    <tr>\n",
       "      <th>7</th>\n",
       "      <td>Julie Johnston</td>\n",
       "      <td>USA</td>\n",
       "      <td>86</td>\n",
       "    </tr>\n",
       "    <tr>\n",
       "      <th>8</th>\n",
       "      <td>Tobin Heath</td>\n",
       "      <td>USA</td>\n",
       "      <td>86</td>\n",
       "    </tr>\n",
       "    <tr>\n",
       "      <th>9</th>\n",
       "      <td>Alex Morgan</td>\n",
       "      <td>USA</td>\n",
       "      <td>86</td>\n",
       "    </tr>\n",
       "    <tr>\n",
       "      <th>10</th>\n",
       "      <td>Nilla Fischer</td>\n",
       "      <td>Sweden</td>\n",
       "      <td>86</td>\n",
       "    </tr>\n",
       "    <tr>\n",
       "      <th>11</th>\n",
       "      <td>Dzsenifer Marozsan</td>\n",
       "      <td>Germany</td>\n",
       "      <td>86</td>\n",
       "    </tr>\n",
       "    <tr>\n",
       "      <th>12</th>\n",
       "      <td>Alexandra Popp</td>\n",
       "      <td>Germany</td>\n",
       "      <td>86</td>\n",
       "    </tr>\n",
       "    <tr>\n",
       "      <th>13</th>\n",
       "      <td>Becky Sauerbrunn</td>\n",
       "      <td>USA</td>\n",
       "      <td>87</td>\n",
       "    </tr>\n",
       "    <tr>\n",
       "      <th>14</th>\n",
       "      <td>Ada Stolsmo Hegerberg</td>\n",
       "      <td>Norway</td>\n",
       "      <td>88</td>\n",
       "    </tr>\n",
       "    <tr>\n",
       "      <th>15</th>\n",
       "      <td>Amandine Henry</td>\n",
       "      <td>France</td>\n",
       "      <td>88</td>\n",
       "    </tr>\n",
       "    <tr>\n",
       "      <th>16</th>\n",
       "      <td>Christine Sinclair</td>\n",
       "      <td>Canada</td>\n",
       "      <td>89</td>\n",
       "    </tr>\n",
       "    <tr>\n",
       "      <th>17</th>\n",
       "      <td>Marta</td>\n",
       "      <td>Brazil</td>\n",
       "      <td>89</td>\n",
       "    </tr>\n",
       "    <tr>\n",
       "      <th>18</th>\n",
       "      <td>Megan Rapinoe</td>\n",
       "      <td>USA</td>\n",
       "      <td>91</td>\n",
       "    </tr>\n",
       "    <tr>\n",
       "      <th>19</th>\n",
       "      <td>Carli Lloyd</td>\n",
       "      <td>USA</td>\n",
       "      <td>92</td>\n",
       "    </tr>\n",
       "  </tbody>\n",
       "</table>\n",
       "</div>"
      ],
      "text/plain": [
       "                         0          1   2\n",
       "0          Caroline Seger     Sweden   85\n",
       "1           Wendie Renard     France   85\n",
       "2          Steph Houghton    England   85\n",
       "3          Sophie Schmidt     Canada   85\n",
       "4             Erin McLeod     Canada   85\n",
       "5                  Rosana     Brazil   85\n",
       "6               Cristiane     Brazil   85\n",
       "7          Julie Johnston        USA   86\n",
       "8             Tobin Heath        USA   86\n",
       "9             Alex Morgan        USA   86\n",
       "10          Nilla Fischer     Sweden   86\n",
       "11     Dzsenifer Marozsan    Germany   86\n",
       "12         Alexandra Popp    Germany   86\n",
       "13       Becky Sauerbrunn        USA   87\n",
       "14  Ada Stolsmo Hegerberg     Norway   88\n",
       "15         Amandine Henry     France   88\n",
       "16     Christine Sinclair     Canada   89\n",
       "17                  Marta     Brazil   89\n",
       "18          Megan Rapinoe        USA   91\n",
       "19            Carli Lloyd        USA   92"
      ]
     },
     "execution_count": 285220287,
     "metadata": {
      "output_tag": "df"
     },
     "output_type": "execute_result"
    }
   ],
   "source": [
    "import pandas as pd\n",
    "df = pd.read_csv(\"datasets/fifa17-top20-women-fixed.txt\",sep=\"-\",header=None)"
   ]
  },
  {
   "cell_type": "markdown",
   "id": "8672f12c-b9af-448e-8023-c7082c7a3681",
   "metadata": {},
   "source": [
    "We now use the same variable name from above when renaming our columns. In a normal notebook we would lose our previous df, but because this is a Dataflow Notebook we can still access our original dataframe through the `df$[id]` syntax. We also tag this cell for easy reference in the future by calling `df$renamed`"
   ]
  },
  {
   "cell_type": "code",
   "execution_count": 3442104796,
   "id": "cd2a59dc-a920-4c42-858a-36bbda454e0c",
   "metadata": {
    "dfmetadata": {
     "inputVars": {
      "ref": {
       "11001dbf": [
        "df"
       ]
      },
      "tag_refs": {}
     },
     "outputVars": [
      "df"
     ],
     "persistentCode": "df = _oh['11001dbf']['df'].rename(columns={0: \"Name\", 1: \"Country\", 2: \"Rating\"})",
     "tag": "renamed"
    }
   },
   "outputs": [
    {
     "data": {
      "text/html": [
       "<div>\n",
       "<style scoped>\n",
       "    .dataframe tbody tr th:only-of-type {\n",
       "        vertical-align: middle;\n",
       "    }\n",
       "\n",
       "    .dataframe tbody tr th {\n",
       "        vertical-align: top;\n",
       "    }\n",
       "\n",
       "    .dataframe thead th {\n",
       "        text-align: right;\n",
       "    }\n",
       "</style>\n",
       "<table border=\"1\" class=\"dataframe\">\n",
       "  <thead>\n",
       "    <tr style=\"text-align: right;\">\n",
       "      <th></th>\n",
       "      <th>Name</th>\n",
       "      <th>Country</th>\n",
       "      <th>Rating</th>\n",
       "    </tr>\n",
       "  </thead>\n",
       "  <tbody>\n",
       "    <tr>\n",
       "      <th>0</th>\n",
       "      <td>Caroline Seger</td>\n",
       "      <td>Sweden</td>\n",
       "      <td>85</td>\n",
       "    </tr>\n",
       "    <tr>\n",
       "      <th>1</th>\n",
       "      <td>Wendie Renard</td>\n",
       "      <td>France</td>\n",
       "      <td>85</td>\n",
       "    </tr>\n",
       "    <tr>\n",
       "      <th>2</th>\n",
       "      <td>Steph Houghton</td>\n",
       "      <td>England</td>\n",
       "      <td>85</td>\n",
       "    </tr>\n",
       "    <tr>\n",
       "      <th>3</th>\n",
       "      <td>Sophie Schmidt</td>\n",
       "      <td>Canada</td>\n",
       "      <td>85</td>\n",
       "    </tr>\n",
       "    <tr>\n",
       "      <th>4</th>\n",
       "      <td>Erin McLeod</td>\n",
       "      <td>Canada</td>\n",
       "      <td>85</td>\n",
       "    </tr>\n",
       "    <tr>\n",
       "      <th>5</th>\n",
       "      <td>Rosana</td>\n",
       "      <td>Brazil</td>\n",
       "      <td>85</td>\n",
       "    </tr>\n",
       "    <tr>\n",
       "      <th>6</th>\n",
       "      <td>Cristiane</td>\n",
       "      <td>Brazil</td>\n",
       "      <td>85</td>\n",
       "    </tr>\n",
       "    <tr>\n",
       "      <th>7</th>\n",
       "      <td>Julie Johnston</td>\n",
       "      <td>USA</td>\n",
       "      <td>86</td>\n",
       "    </tr>\n",
       "    <tr>\n",
       "      <th>8</th>\n",
       "      <td>Tobin Heath</td>\n",
       "      <td>USA</td>\n",
       "      <td>86</td>\n",
       "    </tr>\n",
       "    <tr>\n",
       "      <th>9</th>\n",
       "      <td>Alex Morgan</td>\n",
       "      <td>USA</td>\n",
       "      <td>86</td>\n",
       "    </tr>\n",
       "    <tr>\n",
       "      <th>10</th>\n",
       "      <td>Nilla Fischer</td>\n",
       "      <td>Sweden</td>\n",
       "      <td>86</td>\n",
       "    </tr>\n",
       "    <tr>\n",
       "      <th>11</th>\n",
       "      <td>Dzsenifer Marozsan</td>\n",
       "      <td>Germany</td>\n",
       "      <td>86</td>\n",
       "    </tr>\n",
       "    <tr>\n",
       "      <th>12</th>\n",
       "      <td>Alexandra Popp</td>\n",
       "      <td>Germany</td>\n",
       "      <td>86</td>\n",
       "    </tr>\n",
       "    <tr>\n",
       "      <th>13</th>\n",
       "      <td>Becky Sauerbrunn</td>\n",
       "      <td>USA</td>\n",
       "      <td>87</td>\n",
       "    </tr>\n",
       "    <tr>\n",
       "      <th>14</th>\n",
       "      <td>Ada Stolsmo Hegerberg</td>\n",
       "      <td>Norway</td>\n",
       "      <td>88</td>\n",
       "    </tr>\n",
       "    <tr>\n",
       "      <th>15</th>\n",
       "      <td>Amandine Henry</td>\n",
       "      <td>France</td>\n",
       "      <td>88</td>\n",
       "    </tr>\n",
       "    <tr>\n",
       "      <th>16</th>\n",
       "      <td>Christine Sinclair</td>\n",
       "      <td>Canada</td>\n",
       "      <td>89</td>\n",
       "    </tr>\n",
       "    <tr>\n",
       "      <th>17</th>\n",
       "      <td>Marta</td>\n",
       "      <td>Brazil</td>\n",
       "      <td>89</td>\n",
       "    </tr>\n",
       "    <tr>\n",
       "      <th>18</th>\n",
       "      <td>Megan Rapinoe</td>\n",
       "      <td>USA</td>\n",
       "      <td>91</td>\n",
       "    </tr>\n",
       "    <tr>\n",
       "      <th>19</th>\n",
       "      <td>Carli Lloyd</td>\n",
       "      <td>USA</td>\n",
       "      <td>92</td>\n",
       "    </tr>\n",
       "  </tbody>\n",
       "</table>\n",
       "</div>"
      ],
      "text/plain": [
       "                      Name    Country  Rating\n",
       "0          Caroline Seger     Sweden       85\n",
       "1           Wendie Renard     France       85\n",
       "2          Steph Houghton    England       85\n",
       "3          Sophie Schmidt     Canada       85\n",
       "4             Erin McLeod     Canada       85\n",
       "5                  Rosana     Brazil       85\n",
       "6               Cristiane     Brazil       85\n",
       "7          Julie Johnston        USA       86\n",
       "8             Tobin Heath        USA       86\n",
       "9             Alex Morgan        USA       86\n",
       "10          Nilla Fischer     Sweden       86\n",
       "11     Dzsenifer Marozsan    Germany       86\n",
       "12         Alexandra Popp    Germany       86\n",
       "13       Becky Sauerbrunn        USA       87\n",
       "14  Ada Stolsmo Hegerberg     Norway       88\n",
       "15         Amandine Henry     France       88\n",
       "16     Christine Sinclair     Canada       89\n",
       "17                  Marta     Brazil       89\n",
       "18          Megan Rapinoe        USA       91\n",
       "19            Carli Lloyd        USA       92"
      ]
     },
     "execution_count": 3442104796,
     "metadata": {
      "output_tag": "df"
     },
     "output_type": "execute_result"
    }
   ],
   "source": [
    "df = df$11001dbf.rename(columns={0: \"Name\", 1: \"Country\", 2: \"Rating\"})"
   ]
  },
  {
   "cell_type": "markdown",
   "id": "0c742dff-5297-4812-b676-223f6a573d4d",
   "metadata": {},
   "source": [
    "## Part 2\n",
    "<a id='part2'></a>"
   ]
  },
  {
   "cell_type": "markdown",
   "id": "d3c59439-7b3c-488d-9b5c-70dc90f1db5e",
   "metadata": {},
   "source": [
    "Here you can see a variable being called with its tag."
   ]
  },
  {
   "cell_type": "code",
   "execution_count": 2095595770,
   "id": "7ce840fa-f73b-49d2-b34f-c894b210dce1",
   "metadata": {
    "dfmetadata": {
     "inputVars": {
      "ref": {
       "cd2a59dc": [
        "df"
       ]
      },
      "tag_refs": {
       "cd2a59dc": "renamed"
      }
     },
     "outputVars": [
      "countries"
     ],
     "persistentCode": "countries = _oh['cd2a59dc']['df'].groupby(\"Country\").count()",
     "tag": ""
    }
   },
   "outputs": [
    {
     "data": {
      "text/html": [
       "<div>\n",
       "<style scoped>\n",
       "    .dataframe tbody tr th:only-of-type {\n",
       "        vertical-align: middle;\n",
       "    }\n",
       "\n",
       "    .dataframe tbody tr th {\n",
       "        vertical-align: top;\n",
       "    }\n",
       "\n",
       "    .dataframe thead th {\n",
       "        text-align: right;\n",
       "    }\n",
       "</style>\n",
       "<table border=\"1\" class=\"dataframe\">\n",
       "  <thead>\n",
       "    <tr style=\"text-align: right;\">\n",
       "      <th></th>\n",
       "      <th>Name</th>\n",
       "      <th>Rating</th>\n",
       "    </tr>\n",
       "    <tr>\n",
       "      <th>Country</th>\n",
       "      <th></th>\n",
       "      <th></th>\n",
       "    </tr>\n",
       "  </thead>\n",
       "  <tbody>\n",
       "    <tr>\n",
       "      <th>Brazil</th>\n",
       "      <td>3</td>\n",
       "      <td>3</td>\n",
       "    </tr>\n",
       "    <tr>\n",
       "      <th>Canada</th>\n",
       "      <td>3</td>\n",
       "      <td>3</td>\n",
       "    </tr>\n",
       "    <tr>\n",
       "      <th>England</th>\n",
       "      <td>1</td>\n",
       "      <td>1</td>\n",
       "    </tr>\n",
       "    <tr>\n",
       "      <th>France</th>\n",
       "      <td>2</td>\n",
       "      <td>2</td>\n",
       "    </tr>\n",
       "    <tr>\n",
       "      <th>Germany</th>\n",
       "      <td>2</td>\n",
       "      <td>2</td>\n",
       "    </tr>\n",
       "    <tr>\n",
       "      <th>Norway</th>\n",
       "      <td>1</td>\n",
       "      <td>1</td>\n",
       "    </tr>\n",
       "    <tr>\n",
       "      <th>Sweden</th>\n",
       "      <td>2</td>\n",
       "      <td>2</td>\n",
       "    </tr>\n",
       "    <tr>\n",
       "      <th>USA</th>\n",
       "      <td>6</td>\n",
       "      <td>6</td>\n",
       "    </tr>\n",
       "  </tbody>\n",
       "</table>\n",
       "</div>"
      ],
      "text/plain": [
       "          Name  Rating\n",
       "Country               \n",
       "Brazil       3       3\n",
       "Canada       3       3\n",
       "England      1       1\n",
       "France       2       2\n",
       "Germany      2       2\n",
       "Norway       1       1\n",
       "Sweden       2       2\n",
       "USA          6       6"
      ]
     },
     "execution_count": 2095595770,
     "metadata": {
      "output_tag": "countries"
     },
     "output_type": "execute_result"
    }
   ],
   "source": [
    "countries = df$renamed.groupby(\"Country\").count()"
   ]
  },
  {
   "cell_type": "markdown",
   "id": "12bc5f60-de0b-4e0b-9dd5-d4efd6be7786",
   "metadata": {},
   "source": [
    "Countries have errors in their names. We use the next few cells to identify and fix that and use the df variable name and tag a new cell again."
   ]
  },
  {
   "cell_type": "code",
   "execution_count": 3876931663,
   "id": "e715484f-4f2b-496f-8c72-b608b6e59a8a",
   "metadata": {
    "dfmetadata": {
     "inputVars": {
      "ref": {
       "cd2a59dc": [
        "df"
       ]
      },
      "tag_refs": {
       "cd2a59dc": "renamed"
      }
     },
     "outputVars": [
      {}
     ],
     "persistentCode": "_oh['cd2a59dc']['df'][_oh['cd2a59dc']['df'][\"Country\"] == \"USA\"]",
     "tag": ""
    }
   },
   "outputs": [
    {
     "data": {
      "text/html": [
       "<div>\n",
       "<style scoped>\n",
       "    .dataframe tbody tr th:only-of-type {\n",
       "        vertical-align: middle;\n",
       "    }\n",
       "\n",
       "    .dataframe tbody tr th {\n",
       "        vertical-align: top;\n",
       "    }\n",
       "\n",
       "    .dataframe thead th {\n",
       "        text-align: right;\n",
       "    }\n",
       "</style>\n",
       "<table border=\"1\" class=\"dataframe\">\n",
       "  <thead>\n",
       "    <tr style=\"text-align: right;\">\n",
       "      <th></th>\n",
       "      <th>Name</th>\n",
       "      <th>Country</th>\n",
       "      <th>Rating</th>\n",
       "    </tr>\n",
       "  </thead>\n",
       "  <tbody>\n",
       "  </tbody>\n",
       "</table>\n",
       "</div>"
      ],
      "text/plain": [
       "Empty DataFrame\n",
       "Columns: [Name, Country, Rating]\n",
       "Index: []"
      ]
     },
     "execution_count": 3876931663,
     "metadata": {},
     "output_type": "execute_result"
    }
   ],
   "source": [
    "df$renamed[df$renamed[\"Country\"] == \"USA\"]"
   ]
  },
  {
   "cell_type": "code",
   "execution_count": 4153136171,
   "id": "f78bd42b-f761-4253-b0f3-87058792d5d4",
   "metadata": {
    "dfmetadata": {
     "inputVars": {
      "ref": {
       "cd2a59dc": [
        "df"
       ]
      },
      "tag_refs": {
       "cd2a59dc": "renamed"
      }
     },
     "outputVars": [
      "df"
     ],
     "persistentCode": "df = _oh['cd2a59dc']['df'].assign(Name=_oh['cd2a59dc']['df'][\"Name\"].str.strip(), \n                 Country=_oh['cd2a59dc']['df'][\"Country\"].str.strip())",
     "tag": "country"
    }
   },
   "outputs": [
    {
     "data": {
      "text/html": [
       "<div>\n",
       "<style scoped>\n",
       "    .dataframe tbody tr th:only-of-type {\n",
       "        vertical-align: middle;\n",
       "    }\n",
       "\n",
       "    .dataframe tbody tr th {\n",
       "        vertical-align: top;\n",
       "    }\n",
       "\n",
       "    .dataframe thead th {\n",
       "        text-align: right;\n",
       "    }\n",
       "</style>\n",
       "<table border=\"1\" class=\"dataframe\">\n",
       "  <thead>\n",
       "    <tr style=\"text-align: right;\">\n",
       "      <th></th>\n",
       "      <th>Name</th>\n",
       "      <th>Country</th>\n",
       "      <th>Rating</th>\n",
       "    </tr>\n",
       "  </thead>\n",
       "  <tbody>\n",
       "    <tr>\n",
       "      <th>0</th>\n",
       "      <td>Caroline Seger</td>\n",
       "      <td>Sweden</td>\n",
       "      <td>85</td>\n",
       "    </tr>\n",
       "    <tr>\n",
       "      <th>1</th>\n",
       "      <td>Wendie Renard</td>\n",
       "      <td>France</td>\n",
       "      <td>85</td>\n",
       "    </tr>\n",
       "    <tr>\n",
       "      <th>2</th>\n",
       "      <td>Steph Houghton</td>\n",
       "      <td>England</td>\n",
       "      <td>85</td>\n",
       "    </tr>\n",
       "    <tr>\n",
       "      <th>3</th>\n",
       "      <td>Sophie Schmidt</td>\n",
       "      <td>Canada</td>\n",
       "      <td>85</td>\n",
       "    </tr>\n",
       "    <tr>\n",
       "      <th>4</th>\n",
       "      <td>Erin McLeod</td>\n",
       "      <td>Canada</td>\n",
       "      <td>85</td>\n",
       "    </tr>\n",
       "    <tr>\n",
       "      <th>5</th>\n",
       "      <td>Rosana</td>\n",
       "      <td>Brazil</td>\n",
       "      <td>85</td>\n",
       "    </tr>\n",
       "    <tr>\n",
       "      <th>6</th>\n",
       "      <td>Cristiane</td>\n",
       "      <td>Brazil</td>\n",
       "      <td>85</td>\n",
       "    </tr>\n",
       "    <tr>\n",
       "      <th>7</th>\n",
       "      <td>Julie Johnston</td>\n",
       "      <td>USA</td>\n",
       "      <td>86</td>\n",
       "    </tr>\n",
       "    <tr>\n",
       "      <th>8</th>\n",
       "      <td>Tobin Heath</td>\n",
       "      <td>USA</td>\n",
       "      <td>86</td>\n",
       "    </tr>\n",
       "    <tr>\n",
       "      <th>9</th>\n",
       "      <td>Alex Morgan</td>\n",
       "      <td>USA</td>\n",
       "      <td>86</td>\n",
       "    </tr>\n",
       "    <tr>\n",
       "      <th>10</th>\n",
       "      <td>Nilla Fischer</td>\n",
       "      <td>Sweden</td>\n",
       "      <td>86</td>\n",
       "    </tr>\n",
       "    <tr>\n",
       "      <th>11</th>\n",
       "      <td>Dzsenifer Marozsan</td>\n",
       "      <td>Germany</td>\n",
       "      <td>86</td>\n",
       "    </tr>\n",
       "    <tr>\n",
       "      <th>12</th>\n",
       "      <td>Alexandra Popp</td>\n",
       "      <td>Germany</td>\n",
       "      <td>86</td>\n",
       "    </tr>\n",
       "    <tr>\n",
       "      <th>13</th>\n",
       "      <td>Becky Sauerbrunn</td>\n",
       "      <td>USA</td>\n",
       "      <td>87</td>\n",
       "    </tr>\n",
       "    <tr>\n",
       "      <th>14</th>\n",
       "      <td>Ada Stolsmo Hegerberg</td>\n",
       "      <td>Norway</td>\n",
       "      <td>88</td>\n",
       "    </tr>\n",
       "    <tr>\n",
       "      <th>15</th>\n",
       "      <td>Amandine Henry</td>\n",
       "      <td>France</td>\n",
       "      <td>88</td>\n",
       "    </tr>\n",
       "    <tr>\n",
       "      <th>16</th>\n",
       "      <td>Christine Sinclair</td>\n",
       "      <td>Canada</td>\n",
       "      <td>89</td>\n",
       "    </tr>\n",
       "    <tr>\n",
       "      <th>17</th>\n",
       "      <td>Marta</td>\n",
       "      <td>Brazil</td>\n",
       "      <td>89</td>\n",
       "    </tr>\n",
       "    <tr>\n",
       "      <th>18</th>\n",
       "      <td>Megan Rapinoe</td>\n",
       "      <td>USA</td>\n",
       "      <td>91</td>\n",
       "    </tr>\n",
       "    <tr>\n",
       "      <th>19</th>\n",
       "      <td>Carli Lloyd</td>\n",
       "      <td>USA</td>\n",
       "      <td>92</td>\n",
       "    </tr>\n",
       "  </tbody>\n",
       "</table>\n",
       "</div>"
      ],
      "text/plain": [
       "                     Name  Country  Rating\n",
       "0          Caroline Seger   Sweden      85\n",
       "1           Wendie Renard   France      85\n",
       "2          Steph Houghton  England      85\n",
       "3          Sophie Schmidt   Canada      85\n",
       "4             Erin McLeod   Canada      85\n",
       "5                  Rosana   Brazil      85\n",
       "6               Cristiane   Brazil      85\n",
       "7          Julie Johnston      USA      86\n",
       "8             Tobin Heath      USA      86\n",
       "9             Alex Morgan      USA      86\n",
       "10          Nilla Fischer   Sweden      86\n",
       "11     Dzsenifer Marozsan  Germany      86\n",
       "12         Alexandra Popp  Germany      86\n",
       "13       Becky Sauerbrunn      USA      87\n",
       "14  Ada Stolsmo Hegerberg   Norway      88\n",
       "15         Amandine Henry   France      88\n",
       "16     Christine Sinclair   Canada      89\n",
       "17                  Marta   Brazil      89\n",
       "18          Megan Rapinoe      USA      91\n",
       "19            Carli Lloyd      USA      92"
      ]
     },
     "execution_count": 4153136171,
     "metadata": {
      "output_tag": "df"
     },
     "output_type": "execute_result"
    }
   ],
   "source": [
    "df = df$renamed.assign(Name=df$renamed[\"Name\"].str.strip(), \n",
    "                 Country=df$renamed[\"Country\"].str.strip())"
   ]
  },
  {
   "cell_type": "markdown",
   "id": "8112eef0-242c-4512-9dc0-1a8296034363",
   "metadata": {},
   "source": [
    "[Previous Page](1.ipynb)\n",
    "\n",
    "[Next Page](3.ipynb#Part-3)"
   ]
  },
  {
   "cell_type": "code",
   "execution_count": null,
   "id": "5068b600-1d39-44da-b3db-d721d629f518",
   "metadata": {
    "dfmetadata": {
     "inputVars": {
      "ref": {},
      "tag_refs": {}
     },
     "outputVars": {},
     "persistentCode": "",
     "tag": ""
    }
   },
   "outputs": [],
   "source": []
  }
 ],
 "metadata": {
  "dfnotebook": true,
  "enable_tags": true,
  "kernelspec": {
   "display_name": "DFPython 3",
   "language": "python",
   "name": "dfpython3"
  },
  "language_info": {
   "codemirror_mode": {
    "name": "ipython",
    "version": 3
   },
   "file_extension": ".py",
   "mimetype": "text/x-python",
   "name": "python",
   "nbconvert_exporter": "python",
   "pygments_lexer": "ipython3",
   "version": "3.10.14"
  }
 },
 "nbformat": 4,
 "nbformat_minor": 5
}
