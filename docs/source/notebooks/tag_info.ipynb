{
 "cells": [
  {
   "cell_type": "markdown",
   "id": "3246256b-32c0-4c53-ad9c-b667603d4ff7",
   "metadata": {},
   "source": [
    "# Updated Tags"
   ]
  },
  {
   "cell_type": "markdown",
   "id": "4e929fe8-23ea-48be-a27d-c8eca214be5e",
   "metadata": {},
   "source": [
    "We use ID's to allow the user to access their referenced cells. We also allow the user to create tags to make it easier to access the cell references without having to memorize the ID. With these tags we have a lot of options to make things easier on the user to create, manage, and access tags. ID's can get messy so we recommend to create your own tags when necessary to allow for easier management and cleaner code."
   ]
  },
  {
   "cell_type": "markdown",
   "id": "e96138b7-f2cf-4823-a8ac-183b901211d5",
   "metadata": {},
   "source": [
    "## Creating Tags"
   ]
  },
  {
   "cell_type": "markdown",
   "id": "230d00dd-47af-43ae-94a9-6836da7bf6d8",
   "metadata": {},
   "source": [
    "<img src=\"images/create-tag-ramm.gif\">"
   ]
  },
  {
   "cell_type": "markdown",
   "id": "78ea77b9-24b5-4ea5-9647-191076bafae3",
   "metadata": {},
   "source": [
    "As shown in the video, when creating a tag you right click on the cell id to the left of the cell. Then click on \"Add Cell Tag\". If the Tags toggle in the top right is off, you cannot add a tag."
   ]
  },
  {
   "cell_type": "markdown",
   "id": "606320c2-aa4b-4adc-8389-b1f0c4a251f4",
   "metadata": {},
   "source": [
    "## Delete Tag"
   ]
  },
  {
   "cell_type": "markdown",
   "id": "a4a1ea32-68ce-4ba2-bb15-620358af75b1",
   "metadata": {},
   "source": [
    "You can find the tag deletion section under the \"Modify Cell Tag\" option when you right click on a cell tag. This option will not be available if your Tags toggle is off or a custom tag does not exist. When deleting cell tags, if you leave \"Update references\" checked, it will delete the tags on all existing custom tags related to that cell."
   ]
  },
  {
   "cell_type": "markdown",
   "id": "88b4ee14-782f-48f0-8169-c02f03a32373",
   "metadata": {},
   "source": [
    "<img src=\"images/delete-tag-ramm.gif\">"
   ]
  },
  {
   "cell_type": "markdown",
   "id": "2cc9b48a-78e6-4225-859b-02c862131e2a",
   "metadata": {},
   "source": [
    "## Modify Cell Tag"
   ]
  },
  {
   "cell_type": "markdown",
   "id": "4711e790-cd72-49dc-89a8-1db90d6bebcb",
   "metadata": {},
   "source": [
    "Sometimes you may want to modify a tag. To do this we have options to make things easier. The \"Update references\" checkbox will update all references to that cell if checked, if not checked the references will stay marked with whatever the old tag was. This is convenient for switching tags."
   ]
  },
  {
   "cell_type": "markdown",
   "id": "9ded0e23-8695-4163-b20a-e5ec2a0416bc",
   "metadata": {},
   "source": [
    "Example of modifying everything downstream from the tag:"
   ]
  },
  {
   "cell_type": "markdown",
   "id": "5b49f2d5-18f5-41fd-b7db-a8c696438530",
   "metadata": {},
   "source": [
    "<img src=\"images/modify-tag-downstream-ramm.gif\">"
   ]
  },
  {
   "cell_type": "markdown",
   "id": "3688778c-5351-416c-8761-2c2b8674d6e5",
   "metadata": {},
   "source": [
    "Example of modifying tag and leaving downstream tags alone."
   ]
  },
  {
   "cell_type": "markdown",
   "id": "2f26b5f5-3985-4b41-b7bc-6f6c2357a10a",
   "metadata": {},
   "source": [
    "<img src=\"images/modify-tag-ramm.gif\">"
   ]
  },
  {
   "cell_type": "markdown",
   "id": "adab8f38-c695-4804-9af8-a9dccb57d19e",
   "metadata": {},
   "source": [
    "## Tag Toggle"
   ]
  },
  {
   "cell_type": "markdown",
   "id": "8652ff4a-ba74-48c2-9f01-f9255302c86c",
   "metadata": {},
   "source": [
    "The tag toggle is a feature to allow you to see what kinds of tags you want to see. If you don't want to worry about custom tags and just allow Dataflow Notebooks to generate all your tags for you, turn this off."
   ]
  },
  {
   "cell_type": "markdown",
   "id": "899b4692-e9ad-489e-b7b6-835717e31a34",
   "metadata": {},
   "source": [
    "Toggled on:"
   ]
  },
  {
   "cell_type": "markdown",
   "id": "92579bc9-c74d-4636-b43a-e8bbb17db8d5",
   "metadata": {},
   "source": [
    "<img src=\"images/tag-toggle.png\">"
   ]
  },
  {
   "cell_type": "markdown",
   "id": "347b4bb8-6a36-49cd-a807-2e6a8a163bb0",
   "metadata": {},
   "source": [
    "Toggled off:"
   ]
  },
  {
   "cell_type": "markdown",
   "id": "0754dd50-f676-4d7e-a4fe-c15142d4afb3",
   "metadata": {},
   "source": [
    "<img src=\"images/tag-toggle-off.png\">"
   ]
  },
  {
   "cell_type": "code",
   "execution_count": null,
   "id": "47529ee0-ac15-4798-8082-433a36c25cab",
   "metadata": {
    "dfmetadata": {
     "inputVars": {
      "ref": {},
      "tag_refs": {}
     },
     "outputVars": {},
     "persistentCode": "",
     "tag": ""
    }
   },
   "outputs": [],
   "source": []
  }
 ],
 "metadata": {
  "dfnotebook": true,
  "enable_tags": true,
  "kernelspec": {
   "display_name": "DFPython 3",
   "language": "python",
   "name": "dfpython3"
  },
  "language_info": {
   "codemirror_mode": {
    "name": "ipython",
    "version": 3
   },
   "file_extension": ".py",
   "mimetype": "text/x-python",
   "name": "python",
   "nbconvert_exporter": "python",
   "pygments_lexer": "ipython3",
   "version": "3.10.14"
  }
 },
 "nbformat": 4,
 "nbformat_minor": 5
}
