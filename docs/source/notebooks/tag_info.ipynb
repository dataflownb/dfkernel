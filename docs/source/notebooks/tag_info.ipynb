{
 "cells": [
  {
   "cell_type": "markdown",
   "id": "3246256b-32c0-4c53-ad9c-b667603d4ff7",
   "metadata": {},
   "source": [
    "# Updated Tags"
   ]
  },
  {
   "cell_type": "markdown",
   "id": "4e929fe8-23ea-48be-a27d-c8eca214be5e",
   "metadata": {},
   "source": [
    "In Dataflow Notebooks, cell IDs are used to access variables from specific cells. However, remembering cell IDs can be challenging while working. To address this, Dataflow Notebooks offers a cell tag feature, allowing users to tag cells and reference them using the tags instead of the cell IDs. This feature provides options to create, modify, and delete tags, making it easier to manage and reference cells within the notebook."
   ]
  },
  {
   "cell_type": "markdown",
   "id": "e96138b7-f2cf-4823-a8ac-183b901211d5",
   "metadata": {},
   "source": [
    "## Creating Tags"
   ]
  },
  {
   "cell_type": "markdown",
   "id": "230d00dd-47af-43ae-94a9-6836da7bf6d8",
   "metadata": {},
   "source": [
    "<img src=\"images/create-tag.gif\">"
   ]
  },
  {
   "cell_type": "markdown",
   "id": "78ea77b9-24b5-4ea5-9647-191076bafae3",
   "metadata": {},
   "source": [
    "As shown in the video, to create a tag for a cell, click the <img src=\"images/tag.svg\" width=\"15\" height=\"15\"> icon in the cell toolbar. Ensure that the \"Tags\" toggle in the top right corner is enabled; otherwise, adding tags will not be possible."
   ]
  },
  {
   "cell_type": "markdown",
   "id": "606320c2-aa4b-4adc-8389-b1f0c4a251f4",
   "metadata": {},
   "source": [
    "## Delete Tag"
   ]
  },
  {
   "cell_type": "markdown",
   "id": "a4a1ea32-68ce-4ba2-bb15-620358af75b1",
   "metadata": {},
   "source": [
    "To delete a tag for a cell, click the <img src=\"images/tag.svg\" width=\"15\" height=\"15\"> icon in the cell's toolbar. This will display an option to delete the tag, as shown in the video. If the \"Update references\" option is checked, the tag will be removed from all instances in the code where it is used. Ensure the \"Tags\" toggle in the top-right corner is enabled; otherwise, tag cannot be deleted."
   ]
  },
  {
   "cell_type": "markdown",
   "id": "88b4ee14-782f-48f0-8169-c02f03a32373",
   "metadata": {},
   "source": [
    "<img src=\"images/delete-tag.gif\">"
   ]
  },
  {
   "cell_type": "markdown",
   "id": "2cc9b48a-78e6-4225-859b-02c862131e2a",
   "metadata": {},
   "source": [
    "## Modify Cell Tag"
   ]
  },
  {
   "cell_type": "markdown",
   "id": "4711e790-cd72-49dc-89a8-1db90d6bebcb",
   "metadata": {},
   "source": [
    "To modify a cell's tag, click the <img src=\"images/tag.svg\" width=\"15\" height=\"15\"> icon in the cell's toolbar. As shown in the video, a dialog box will appear, allowing the modification of the cell's tag. The \"Update references\" checkbox will update all references to that cell if checked; if unchecked, the references will retain the previous tag. This feature is useful for switching tags."
   ]
  },
  {
   "cell_type": "markdown",
   "id": "9ded0e23-8695-4163-b20a-e5ec2a0416bc",
   "metadata": {},
   "source": [
    "Example of modifying everything downstream from the tag:"
   ]
  },
  {
   "cell_type": "markdown",
   "id": "5b49f2d5-18f5-41fd-b7db-a8c696438530",
   "metadata": {},
   "source": [
    "<img src=\"images/modify-tag-downstream.gif\">"
   ]
  },
  {
   "cell_type": "markdown",
   "id": "3688778c-5351-416c-8761-2c2b8674d6e5",
   "metadata": {},
   "source": [
    "Example of modifying tag and leaving downstream tags alone."
   ]
  },
  {
   "cell_type": "markdown",
   "id": "2f26b5f5-3985-4b41-b7bc-6f6c2357a10a",
   "metadata": {},
   "source": [
    "<img src=\"images/modify-tag.gif\">"
   ]
  },
  {
   "cell_type": "markdown",
   "id": "adab8f38-c695-4804-9af8-a9dccb57d19e",
   "metadata": {},
   "source": [
    "## Tag Toggle"
   ]
  },
  {
   "cell_type": "markdown",
   "id": "8652ff4a-ba74-48c2-9f01-f9255302c86c",
   "metadata": {},
   "source": [
    "The tag toggle allows you to control the visibility of tags. When turned off, it hides any custom tags that may be present. If you don’t want to see custom tags, simply disable this option."
   ]
  },
  {
   "cell_type": "markdown",
   "id": "899b4692-e9ad-489e-b7b6-835717e31a34",
   "metadata": {},
   "source": [
    "Toggled on:"
   ]
  },
  {
   "cell_type": "markdown",
   "id": "92579bc9-c74d-4636-b43a-e8bbb17db8d5",
   "metadata": {},
   "source": [
    "<img src=\"images/tags-toggle.png\">"
   ]
  },
  {
   "cell_type": "markdown",
   "id": "347b4bb8-6a36-49cd-a807-2e6a8a163bb0",
   "metadata": {},
   "source": [
    "Toggled off:"
   ]
  },
  {
   "cell_type": "markdown",
   "id": "0754dd50-f676-4d7e-a4fe-c15142d4afb3",
   "metadata": {},
   "source": [
    "<img src=\"images/tags-toggle-off.png\">"
   ]
  }
 ],
 "metadata": {
  "dfnotebook": true,
  "enable_tags": true,
  "kernelspec": {
   "display_name": "DFPython 3",
   "language": "python",
   "name": "dfpython3"
  },
  "language_info": {
   "codemirror_mode": {
    "name": "ipython",
    "version": 3
   },
   "file_extension": ".py",
   "mimetype": "text/x-python",
   "name": "python",
   "nbconvert_exporter": "python",
   "pygments_lexer": "ipython3",
   "version": "3.10.14"
  }
 },
 "nbformat": 4,
 "nbformat_minor": 5
}
