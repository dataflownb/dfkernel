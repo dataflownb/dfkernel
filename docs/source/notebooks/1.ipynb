{
 "cells": [
  {
   "cell_type": "markdown",
   "id": "5ba2066e-1c41-4ee8-a0ac-dbae4b1783c2",
   "metadata": {},
   "source": [
    "# Soccer Example"
   ]
  },
  {
   "cell_type": "markdown",
   "id": "1f774ea8-9dda-4ef1-922a-6800ed100a74",
   "metadata": {},
   "source": [
    "First, we import pandas and dataflow notebooks automatically recognizes that it needs to be used in the output for future reference. The same happens on the last line of a cell as seen when we read our file into our df variable. This cell automatically generates an ID."
   ]
  },
  {
   "cell_type": "code",
   "execution_count": 285220287,
   "id": "11001dbf-d690-468c-bab0-da2a80055be0",
   "metadata": {
    "dfmetadata": {
     "inputVars": {
      "ref": {},
      "tag_refs": {}
     },
     "outputVars": [
      "pd",
      "df"
     ],
     "persistentCode": "import pandas as pd\ndf = pd.read_csv(\"datasets/fifa17-top20-women-fixed.txt\",sep=\"-\",header=None)",
     "tag": ""
    }
   },
   "outputs": [
    {
     "data": {
      "text/plain": [
       "<module 'pandas' from 'C:\\\\Users\\\\bpohl\\\\anaconda3\\\\envs\\\\rammdocs\\\\lib\\\\site-packages\\\\pandas\\\\__init__.py'>"
      ]
     },
     "execution_count": 285220287,
     "metadata": {
      "output_tag": "pd"
     },
     "output_type": "execute_result"
    },
    {
     "data": {
      "text/html": [
       "<div>\n",
       "<style scoped>\n",
       "    .dataframe tbody tr th:only-of-type {\n",
       "        vertical-align: middle;\n",
       "    }\n",
       "\n",
       "    .dataframe tbody tr th {\n",
       "        vertical-align: top;\n",
       "    }\n",
       "\n",
       "    .dataframe thead th {\n",
       "        text-align: right;\n",
       "    }\n",
       "</style>\n",
       "<table border=\"1\" class=\"dataframe\">\n",
       "  <thead>\n",
       "    <tr style=\"text-align: right;\">\n",
       "      <th></th>\n",
       "      <th>0</th>\n",
       "      <th>1</th>\n",
       "      <th>2</th>\n",
       "    </tr>\n",
       "  </thead>\n",
       "  <tbody>\n",
       "    <tr>\n",
       "      <th>0</th>\n",
       "      <td>Caroline Seger</td>\n",
       "      <td>Sweden</td>\n",
       "      <td>85</td>\n",
       "    </tr>\n",
       "    <tr>\n",
       "      <th>1</th>\n",
       "      <td>Wendie Renard</td>\n",
       "      <td>France</td>\n",
       "      <td>85</td>\n",
       "    </tr>\n",
       "    <tr>\n",
       "      <th>2</th>\n",
       "      <td>Steph Houghton</td>\n",
       "      <td>England</td>\n",
       "      <td>85</td>\n",
       "    </tr>\n",
       "    <tr>\n",
       "      <th>3</th>\n",
       "      <td>Sophie Schmidt</td>\n",
       "      <td>Canada</td>\n",
       "      <td>85</td>\n",
       "    </tr>\n",
       "    <tr>\n",
       "      <th>4</th>\n",
       "      <td>Erin McLeod</td>\n",
       "      <td>Canada</td>\n",
       "      <td>85</td>\n",
       "    </tr>\n",
       "    <tr>\n",
       "      <th>5</th>\n",
       "      <td>Rosana</td>\n",
       "      <td>Brazil</td>\n",
       "      <td>85</td>\n",
       "    </tr>\n",
       "    <tr>\n",
       "      <th>6</th>\n",
       "      <td>Cristiane</td>\n",
       "      <td>Brazil</td>\n",
       "      <td>85</td>\n",
       "    </tr>\n",
       "    <tr>\n",
       "      <th>7</th>\n",
       "      <td>Julie Johnston</td>\n",
       "      <td>USA</td>\n",
       "      <td>86</td>\n",
       "    </tr>\n",
       "    <tr>\n",
       "      <th>8</th>\n",
       "      <td>Tobin Heath</td>\n",
       "      <td>USA</td>\n",
       "      <td>86</td>\n",
       "    </tr>\n",
       "    <tr>\n",
       "      <th>9</th>\n",
       "      <td>Alex Morgan</td>\n",
       "      <td>USA</td>\n",
       "      <td>86</td>\n",
       "    </tr>\n",
       "    <tr>\n",
       "      <th>10</th>\n",
       "      <td>Nilla Fischer</td>\n",
       "      <td>Sweden</td>\n",
       "      <td>86</td>\n",
       "    </tr>\n",
       "    <tr>\n",
       "      <th>11</th>\n",
       "      <td>Dzsenifer Marozsan</td>\n",
       "      <td>Germany</td>\n",
       "      <td>86</td>\n",
       "    </tr>\n",
       "    <tr>\n",
       "      <th>12</th>\n",
       "      <td>Alexandra Popp</td>\n",
       "      <td>Germany</td>\n",
       "      <td>86</td>\n",
       "    </tr>\n",
       "    <tr>\n",
       "      <th>13</th>\n",
       "      <td>Becky Sauerbrunn</td>\n",
       "      <td>USA</td>\n",
       "      <td>87</td>\n",
       "    </tr>\n",
       "    <tr>\n",
       "      <th>14</th>\n",
       "      <td>Ada Stolsmo Hegerberg</td>\n",
       "      <td>Norway</td>\n",
       "      <td>88</td>\n",
       "    </tr>\n",
       "    <tr>\n",
       "      <th>15</th>\n",
       "      <td>Amandine Henry</td>\n",
       "      <td>France</td>\n",
       "      <td>88</td>\n",
       "    </tr>\n",
       "    <tr>\n",
       "      <th>16</th>\n",
       "      <td>Christine Sinclair</td>\n",
       "      <td>Canada</td>\n",
       "      <td>89</td>\n",
       "    </tr>\n",
       "    <tr>\n",
       "      <th>17</th>\n",
       "      <td>Marta</td>\n",
       "      <td>Brazil</td>\n",
       "      <td>89</td>\n",
       "    </tr>\n",
       "    <tr>\n",
       "      <th>18</th>\n",
       "      <td>Megan Rapinoe</td>\n",
       "      <td>USA</td>\n",
       "      <td>91</td>\n",
       "    </tr>\n",
       "    <tr>\n",
       "      <th>19</th>\n",
       "      <td>Carli Lloyd</td>\n",
       "      <td>USA</td>\n",
       "      <td>92</td>\n",
       "    </tr>\n",
       "  </tbody>\n",
       "</table>\n",
       "</div>"
      ],
      "text/plain": [
       "                         0          1   2\n",
       "0          Caroline Seger     Sweden   85\n",
       "1           Wendie Renard     France   85\n",
       "2          Steph Houghton    England   85\n",
       "3          Sophie Schmidt     Canada   85\n",
       "4             Erin McLeod     Canada   85\n",
       "5                  Rosana     Brazil   85\n",
       "6               Cristiane     Brazil   85\n",
       "7          Julie Johnston        USA   86\n",
       "8             Tobin Heath        USA   86\n",
       "9             Alex Morgan        USA   86\n",
       "10          Nilla Fischer     Sweden   86\n",
       "11     Dzsenifer Marozsan    Germany   86\n",
       "12         Alexandra Popp    Germany   86\n",
       "13       Becky Sauerbrunn        USA   87\n",
       "14  Ada Stolsmo Hegerberg     Norway   88\n",
       "15         Amandine Henry     France   88\n",
       "16     Christine Sinclair     Canada   89\n",
       "17                  Marta     Brazil   89\n",
       "18          Megan Rapinoe        USA   91\n",
       "19            Carli Lloyd        USA   92"
      ]
     },
     "execution_count": 285220287,
     "metadata": {
      "output_tag": "df"
     },
     "output_type": "execute_result"
    }
   ],
   "source": [
    "import pandas as pd\n",
    "df = pd.read_csv(\"datasets/fifa17-top20-women-fixed.txt\",sep=\"-\",header=None)"
   ]
  },
  {
   "cell_type": "code",
   "execution_count": null,
   "id": "78e5cbee-ee60-4b96-abe6-c339e10d31b6",
   "metadata": {
    "dfmetadata": {
     "inputVars": {
      "ref": {},
      "tag_refs": {}
     },
     "outputVars": {},
     "persistentCode": "",
     "tag": ""
    }
   },
   "outputs": [],
   "source": [
    "df = df.rename(columns={0: \"Name\", 1: \"Country\", 2: \"Rating\"})"
   ]
  },
  {
   "cell_type": "markdown",
   "id": "8672f12c-b9af-448e-8023-c7082c7a3681",
   "metadata": {},
   "source": [
    "Once the above cell is ran, dataflow will autofill the $ to the most recent df. In this case it will be the original df."
   ]
  },
  {
   "cell_type": "markdown",
   "id": "d14a226f-2cc9-45b6-9da9-8ca47e162a88",
   "metadata": {},
   "source": [
    "[Next Page](2.ipynb#Part-2)"
   ]
  },
  {
   "cell_type": "code",
   "execution_count": null,
   "id": "8307c505-38a2-4a18-8358-9031b69ef4c4",
   "metadata": {
    "dfmetadata": {
     "inputVars": {
      "ref": {},
      "tag_refs": {}
     },
     "outputVars": {},
     "persistentCode": "",
     "tag": ""
    }
   },
   "outputs": [],
   "source": []
  }
 ],
 "metadata": {
  "dfnotebook": true,
  "enable_tags": true,
  "kernelspec": {
   "display_name": "DFPython 3",
   "language": "python",
   "name": "dfpython3"
  },
  "language_info": {
   "codemirror_mode": {
    "name": "ipython",
    "version": 3
   },
   "file_extension": ".py",
   "mimetype": "text/x-python",
   "name": "python",
   "nbconvert_exporter": "python",
   "pygments_lexer": "ipython3",
   "version": "3.10.14"
  }
 },
 "nbformat": 4,
 "nbformat_minor": 5
}
