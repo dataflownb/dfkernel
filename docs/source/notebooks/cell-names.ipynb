{
 "cells": [
  {
   "cell_type": "markdown",
   "id": "fceb3410-2525-4535-8924-eb1a3a9fa142",
   "metadata": {},
   "source": [
    "# Cell Names"
   ]
  },
  {
   "cell_type": "markdown",
   "id": "fe3b4d07-2ffc-47e4-95dd-2d231e756b18",
   "metadata": {},
   "source": [
    "In Dataflow Notebooks, cell identifiers (ids) are used to access variables from specific cells. However, remembering cell ids can be challenging. To address this, Dataflow Notebooks allows users to **name** a cell, and then that user can refer to any ambiguous reference (an output identifier that appears in more than one cell) using that name instead of the id. Recall that if the reference in not ambiguous (the identifier appears only once), or if the user wants to use the most recent definition, the identifier needs no suffix. Cell names are not permanent, meaning that a user can choose to realign inputs or parameters by moving a name from one cell to another. Names can also be removed from a cell. The notebook will track the persistent identifiers for all executed code so for any result, we will know the dependencies at that time no matter if the names are changed after execution.\n",
    "\n",
    "*Note that cell names used to be called cell tags, but that term conflicts with Jupyter's own cell tags, and implies that a cell could have multiple tags which cannot happen in dataflow notebooks. However, you may see \"tag\" used in the code and some older documentation.*"
   ]
  },
  {
   "cell_type": "markdown",
   "id": "2a421dfe-131d-4e6f-b801-628002cc6609",
   "metadata": {},
   "source": [
    "## Adding a Cell Name"
   ]
  },
  {
   "cell_type": "markdown",
   "id": "ccaa83fc-ea9d-4388-b83a-21d128dcb1a7",
   "metadata": {},
   "source": [
    "To add a name for a cell, click the <img src=\"images/tag.svg\" width=\"15\" height=\"15\"> icon in the cell toolbar. Note that if the \"Names\" toggle in the top right corner is not enabled, this will not be possible so make sure that is toggled on."
   ]
  },
  {
   "cell_type": "markdown",
   "id": "2f52e2e6-349c-4f21-96ff-e147dc36c9cd",
   "metadata": {},
   "source": [
    "<img src=\"images/create-tag.gif\">"
   ]
  },
  {
   "cell_type": "markdown",
   "id": "8547613a-fe7d-4d8b-8ce5-3a7259e8a28d",
   "metadata": {},
   "source": [
    "## Deleting a Cell Name"
   ]
  },
  {
   "cell_type": "markdown",
   "id": "26f776f0-27c1-4c98-9407-b22dc7622e72",
   "metadata": {},
   "source": [
    "To delete a cell's name, click the <img src=\"images/tag.svg\" width=\"15\" height=\"15\"> icon in the cell's toolbar. This will display an option to delete the tag, as shown in the video. If the \"Update references\" box is checked, the tag will be removed from all instances in the code where it is used."
   ]
  },
  {
   "cell_type": "markdown",
   "id": "42693c1a-a912-440e-8fd1-1a8ccc552eb6",
   "metadata": {},
   "source": [
    "<img src=\"images/delete-tag.gif\">"
   ]
  },
  {
   "cell_type": "markdown",
   "id": "0a41e432-cd42-4887-92df-a3a8592837c8",
   "metadata": {},
   "source": [
    "## Modifying a Cell Name"
   ]
  },
  {
   "cell_type": "markdown",
   "id": "05c38133-8c09-4698-a42c-7feaee5b2118",
   "metadata": {},
   "source": [
    "To modify a cell's name, click the <img src=\"images/tag.svg\" width=\"15\" height=\"15\"> icon in the cell's toolbar. This will display a dialog box that allows the name to be changed. Checking the \"Update references\" box will update all references to that cell if checked; if unchecked, the references will retain the previous identifier. This feature controls whether the renaming is not intended to change any computation (checked) or if you you wish to change all references to a new value (unchecked). In the first case, all references have their name changed as well "
   ]
  },
  {
   "cell_type": "markdown",
   "id": "8f4af49e-88de-420a-9f35-2fd6ea724468",
   "metadata": {},
   "source": [
    "<img src=\"images/modify-tag-downstream.gif\">"
   ]
  },
  {
   "cell_type": "markdown",
   "id": "a98bc683-249f-47dc-8918-b195a1ac1d49",
   "metadata": {},
   "source": [
    "For example, if you have two datasets, and you want to examine the second dataset, you only need to move the name from one cell to another to rerun the notebook with the second dataset. Here, we can now change `bTag` to point to another cell."
   ]
  },
  {
   "cell_type": "markdown",
   "id": "d07e8da8-59d7-45aa-873d-24c078bc667f",
   "metadata": {},
   "source": [
    "<img src=\"images/modify-tag.gif\">"
   ]
  },
  {
   "cell_type": "markdown",
   "id": "dc857610-e222-4c2e-86d3-04fa31fa82e9",
   "metadata": {},
   "source": [
    "## Toggling Names On and Off"
   ]
  },
  {
   "cell_type": "markdown",
   "id": "b7519e95-28f5-4005-8863-ece91eff991c",
   "metadata": {},
   "source": [
    "The tag toggle allows you to control the visibility of tags. When turned off, it hides any custom tags that may be present. If you don’t want to see custom tags, simply disable this option. The following images show the impact of this change."
   ]
  },
  {
   "cell_type": "markdown",
   "id": "3596cc54-eaa7-41b6-b66b-6e1f0d5125d5",
   "metadata": {},
   "source": [
    "<img src=\"images/tags-toggle.png\">"
   ]
  },
  {
   "cell_type": "markdown",
   "id": "c582419d-68be-4c35-a933-1f66c5527af6",
   "metadata": {},
   "source": [
    "<img src=\"images/tags-toggle-off.png\">"
   ]
  },
  {
   "cell_type": "code",
   "execution_count": null,
   "id": "c5094612-a8a9-4e8f-9775-58a0bc00599a",
   "metadata": {
    "dfmetadata": {
     "inputVars": {
      "ref": {},
      "tag_refs": {}
     },
     "outputVars": [],
     "persistentCode": "",
     "tag": ""
    }
   },
   "outputs": [],
   "source": []
  }
 ],
 "metadata": {
  "dfnotebook": true,
  "enable_tags": true,
  "kernelspec": {
   "display_name": "DFPython 3",
   "language": "python",
   "name": "dfpython3"
  },
  "language_info": {
   "codemirror_mode": {
    "name": "ipython",
    "version": 3
   },
   "file_extension": ".py",
   "mimetype": "text/x-python",
   "name": "python",
   "nbconvert_exporter": "python",
   "pygments_lexer": "ipython3",
   "version": "3.13.2"
  }
 },
 "nbformat": 4,
 "nbformat_minor": 5
}
