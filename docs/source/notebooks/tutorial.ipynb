{
 "cells": [
  {
   "cell_type": "markdown",
   "id": "789201e5-b03f-43e0-ad20-f030f7eb2375",
   "metadata": {},
   "source": [
    "# Tutorial"
   ]
  },
  {
   "cell_type": "markdown",
   "id": "d94c2775-171d-47d4-83d9-841033011929",
   "metadata": {},
   "source": [
    "A dataflow notebook is an extension of the [Jupyter](https://docs.jupyter.org/en/latest/) computational notebook that works with Python. This documentation assumes familiarity with computational notebooks and terminology like cells, outputs, and identifiers. If you are not familiar with what a computational notebook is or the Jupyter project, we highly recommend reviewing those concepts on their [website](https://docs.jupyter.org/en/latest/) and [trying](https://docs.jupyter.org/en/latest/start/index.html#try-the-jupyterlab-interface) the [JupyterLab](https://jupyterlab.readthedocs.io/en/latest/) interface. There is also an extensive [user guide](https://jupyterlab.readthedocs.io/en/latest/user/index.html) for JupyterLab.\n",
    "\n",
    "There are a few key differences between how dataflow notebooks work compared to classic Jupyter notebooks. Most importantly, cells are linked when one cell references the output of another, forming a dependency graph that allows us to determine which cells depend on others or are depended on by other cells."
   ]
  },
  {
   "cell_type": "markdown",
   "id": "927c45da-d58b-4b50-8e93-9744f4ba56b2",
   "metadata": {},
   "source": [
    "## Variables and Outputs"
   ]
  },
  {
   "cell_type": "markdown",
   "id": "e5bfe006-a7ec-4724-a33e-964efee41a02",
   "metadata": {},
   "source": [
    "You can use variables in a dataflow notebook in much the same way as in a Jupyter notebook with a key difference: a variable cannot be referenced across cells unless it is denoted as an output. Thus, transient identifiers like a counter `i` used in a loop are valid only in the current cell by default. To ensure that an identifier can referenced, it needs to be listed on the **last line** of the cell. The last-line distinction is something that is used in Jupyter notebooks to output that expression. In dataflow notebooks, any variable or assignment on the last line both outputs the expression and makes it usable in other cells. A single cell with the code `a = 3 * 4` means that `a` is assigned the expression's value, 12, that value is shown as the output, and we can reference `a` in another cell."
   ]
  },
  {
   "cell_type": "code",
   "execution_count": 1369097314,
   "id": "519ac462-1f8d-478d-b089-a38aef78fb88",
   "metadata": {
    "dfmetadata": {
     "inputVars": {
      "ref": {},
      "tag_refs": {}
     },
     "outputVars": [
      "a"
     ],
     "persistentCode": "a = 3 * 4",
     "tag": ""
    }
   },
   "outputs": [
    {
     "data": {
      "text/plain": [
       "12"
      ]
     },
     "execution_count": 1369097314,
     "metadata": {
      "output_tag": "a"
     },
     "output_type": "execute_result"
    }
   ],
   "source": [
    "a = 3 * 4"
   ]
  },
  {
   "cell_type": "markdown",
   "id": "a51310b1-1982-473f-9bfb-054627824d33",
   "metadata": {},
   "source": [
    "However, if that cell instead defined `b` on the first line and `c` on the second line, only `c` would be output and accessible. `b` would not."
   ]
  },
  {
   "cell_type": "code",
   "execution_count": 200066137,
   "id": "0becc459-9930-4c21-8250-4fe02d0f8ab2",
   "metadata": {
    "dfmetadata": {
     "inputVars": {
      "ref": {},
      "tag_refs": {}
     },
     "outputVars": [
      "c"
     ],
     "persistentCode": "b = 1 * 2\nc = 3 * 4",
     "tag": ""
    }
   },
   "outputs": [
    {
     "data": {
      "text/plain": [
       "12"
      ]
     },
     "execution_count": 200066137,
     "metadata": {
      "output_tag": "c"
     },
     "output_type": "execute_result"
    }
   ],
   "source": [
    "b = 1 * 2\n",
    "c = 3 * 4"
   ]
  },
  {
   "cell_type": "markdown",
   "id": "3f20afb4-9a6d-48ef-b833-f0ffef2d6559",
   "metadata": {},
   "source": [
    "To make multiple variables accessible, you can list them as a tuple in the last line."
   ]
  },
  {
   "cell_type": "code",
   "execution_count": 2172169693,
   "id": "8178addd-2d3d-45d0-95d8-3be5e702c58c",
   "metadata": {
    "dfmetadata": {
     "inputVars": {
      "ref": {},
      "tag_refs": {}
     },
     "outputVars": [
      "d",
      "e"
     ],
     "persistentCode": "d = 1 * 2\ne = 3 * 4\nd, e",
     "tag": ""
    }
   },
   "outputs": [
    {
     "data": {
      "text/plain": [
       "2"
      ]
     },
     "execution_count": 2172169693,
     "metadata": {
      "output_tag": "d"
     },
     "output_type": "execute_result"
    },
    {
     "data": {
      "text/plain": [
       "12"
      ]
     },
     "execution_count": 2172169693,
     "metadata": {
      "output_tag": "e"
     },
     "output_type": "execute_result"
    }
   ],
   "source": [
    "d = 1 * 2\n",
    "e = 3 * 4\n",
    "d, e"
   ]
  },
  {
   "cell_type": "markdown",
   "id": "20752256-697f-4ca2-928d-226193d93407",
   "metadata": {},
   "source": [
    "You can also use simultaneous assignment to set the values at the same time."
   ]
  },
  {
   "cell_type": "code",
   "execution_count": 4044153153,
   "id": "f10ce141-f4df-4be4-9e8b-00c0cff828bb",
   "metadata": {
    "dfmetadata": {
     "inputVars": {
      "ref": {},
      "tag_refs": {}
     },
     "outputVars": [
      "i",
      "j"
     ],
     "persistentCode": "i, j = 1 * 2, 3 * 4",
     "tag": ""
    }
   },
   "outputs": [
    {
     "data": {
      "text/plain": [
       "2"
      ]
     },
     "execution_count": 4044153153,
     "metadata": {
      "output_tag": "i"
     },
     "output_type": "execute_result"
    },
    {
     "data": {
      "text/plain": [
       "12"
      ]
     },
     "execution_count": 4044153153,
     "metadata": {
      "output_tag": "j"
     },
     "output_type": "execute_result"
    }
   ],
   "source": [
    "i, j = 1 * 2, 3 * 4"
   ]
  },
  {
   "cell_type": "markdown",
   "id": "05d62cd3-6d38-4188-8262-d59582f181fb",
   "metadata": {},
   "source": [
    "You might have noticed that each of the outputs of the cells are **labeled** with the name of the variable. In classic Jupyter notebooks, outputs are labeled with numbers that change with each execution, and a tuple of outputs is presented as a single output rendered as a (textual) tuple. With dataflow notebooks, each output is labeled individually. This means that you can scan through a notebook and see all of the variables that can be referenced in other cells **and** a representation of their values!"
   ]
  },
  {
   "cell_type": "markdown",
   "id": "eaa1c736-de7e-429d-9a02-38d566c778e6",
   "metadata": {},
   "source": [
    "## Reusing Identifiers"
   ]
  },
  {
   "cell_type": "markdown",
   "id": "b2b16d4b-84a0-42a1-8a5a-2b9a552cf1f8",
   "metadata": {},
   "source": [
    "When coding, people often lodge variable identifiers in their memory so that they can reference them later. For a data scientist, the dataframe they are currently analyzing is often identified as `df`. When manipulating a dataframe (e.g. cleaning or transforming it), it is often useful to see the results of particular changes as they are developed in a step-by-step manner. However, giving a different name to each one of the intermediate outputs can be tedious (`df1`, `df2`, `df3`, ...) and error-prone, so the identifier `df` may be reused to represent the \"current\" state of the dataframe. If we only link cells based on their named outputs, this introduces an ambiguity which plagues Jupyter notebooks: which `df` are we referencing at any given point? Since cells can be reordered and executed in different orders, the exact dependencies between the assignments to `df` can be impossible to follow."
   ]
  },
  {
   "cell_type": "markdown",
   "id": "1f10dab4-1d1c-40ce-87cb-0fbaf68fb797",
   "metadata": {},
   "source": [
    "### Cell Identifiers"
   ]
  },
  {
   "cell_type": "markdown",
   "id": "4afbb8c9-a930-44cf-ae49-d2ac5e1a6de8",
   "metadata": {},
   "source": [
    "A dataflow notebook stores **both** the variable name and the cell identifier for any referenced identifier. When a variable is output only once, the cell identifier is superfluous, but when it is repeatedly used, we can disambiguate the reference by appending its cell identifier. This is done by modifying Python's syntax to allow an identifier to use the `$` symbol. Thus, in the following sequence of cells, we can see which `x` is being referenced in the final cell by looking at the appended identifier:"
   ]
  },
  {
   "cell_type": "code",
   "execution_count": 1482671858,
   "id": "585fc6f2-4fca-40fe-baf0-83dfd19681ef",
   "metadata": {
    "dfmetadata": {
     "inputVars": {
      "ref": {},
      "tag_refs": {}
     },
     "outputVars": [
      "x"
     ],
     "persistentCode": "x = 1 * 2",
     "tag": ""
    }
   },
   "outputs": [
    {
     "data": {
      "text/plain": [
       "2"
      ]
     },
     "execution_count": 1482671858,
     "metadata": {
      "output_tag": "x"
     },
     "output_type": "execute_result"
    }
   ],
   "source": [
    "x = 1 * 2"
   ]
  },
  {
   "cell_type": "code",
   "execution_count": 1586220593,
   "id": "5e8bce31-48c6-4f05-801a-502040be9411",
   "metadata": {
    "dfmetadata": {
     "inputVars": {
      "ref": {},
      "tag_refs": {}
     },
     "outputVars": [
      "x"
     ],
     "persistentCode": "x = 3 * 4",
     "tag": ""
    }
   },
   "outputs": [
    {
     "data": {
      "text/plain": [
       "12"
      ]
     },
     "execution_count": 1586220593,
     "metadata": {
      "output_tag": "x"
     },
     "output_type": "execute_result"
    }
   ],
   "source": [
    "x = 3 * 4"
   ]
  },
  {
   "cell_type": "code",
   "execution_count": 1256994353,
   "id": "4aec3631-f476-4c86-93a1-ced04c80bdaf",
   "metadata": {
    "dfmetadata": {
     "inputVars": {
      "ref": {
       "5e8bce31": [
        "x"
       ]
      },
      "tag_refs": {}
     },
     "outputVars": [],
     "persistentCode": "x$5e8bce31 ** 2",
     "tag": ""
    }
   },
   "outputs": [
    {
     "data": {
      "text/plain": [
       "144"
      ]
     },
     "execution_count": 1256994353,
     "metadata": {},
     "output_type": "execute_result"
    }
   ],
   "source": [
    "x$5e8bce31 ** 2"
   ]
  },
  {
   "cell_type": "markdown",
   "id": "3489399c-2db0-4f14-ae95-f0c312595fa9",
   "metadata": {},
   "source": [
    "In cases where the reference is not potentially ambiguous (all of the cells until the two definitions of x), we hide the persistent identifier, but we always record it with the notebook so that if it ever becomes ambiguous, we can display the correct references.\n",
    "\n",
    "Note that you are never required to add the `$`-suffix. Whenever an identifier is referenced (even if the reference is ambiguous), the notebook will default to associating the identifier with the **most recently executed** cell with that output. If you wish to reference a different cell, you can enter the variable name and then use Jupyter's tab completion to choose the cell you wish to reference.\n",
    "\n",
    "Finally, when an expression is not a variable name or assignment, the output shows the cell identifier. While these can be accessed through the global `Out` dictionary (e.g. `Out['4aec3631']`), we recommend using meaningful names instead."
   ]
  },
  {
   "cell_type": "markdown",
   "id": "0ce70cc3-7d26-49ff-b5fd-304d52bdc610",
   "metadata": {},
   "source": [
    "## Cell Names"
   ]
  },
  {
   "cell_type": "markdown",
   "id": "91b33af2-b77e-4e7b-9791-775c209178ba",
   "metadata": {},
   "source": [
    "While a cell's hexadecimal identifiers are unique and may remind git users of the hashes used to identify content or commits, they are generally difficult to remember. To address this, dataflow notebooks support user-defined cell names. A user can select any cell they wish to recall and then set its name by clicking on the tag icon in the cell toolbar. This action is also available via the Edit menu under \"Add/Modify Cell Name...\" Then, when programming, a user can type the name of a reference and disambiguate it by adding the cell name as a suffix in the same way that an identifier is used. If a cell is named later, the notebook will update the display of any references to show that reference."
   ]
  },
  {
   "cell_type": "code",
   "execution_count": 3836741696,
   "id": "e4b00840-7bef-45fb-ac6d-6a2c19f6cf0f",
   "metadata": {
    "dfmetadata": {
     "inputVars": {
      "ref": {},
      "tag_refs": {}
     },
     "outputVars": [
      "y"
     ],
     "persistentCode": "y = 1 * 2",
     "tag": "first"
    }
   },
   "outputs": [
    {
     "data": {
      "text/plain": [
       "2"
      ]
     },
     "execution_count": 3836741696,
     "metadata": {
      "output_tag": "y"
     },
     "output_type": "execute_result"
    }
   ],
   "source": [
    "y = 1 * 2"
   ]
  },
  {
   "cell_type": "code",
   "execution_count": 1831057233,
   "id": "6d23b751-e54f-46e2-b5c8-7b032a43a084",
   "metadata": {
    "dfmetadata": {
     "inputVars": {
      "ref": {},
      "tag_refs": {}
     },
     "outputVars": [
      "y"
     ],
     "persistentCode": "y = 3 * 4",
     "tag": ""
    }
   },
   "outputs": [
    {
     "data": {
      "text/plain": [
       "12"
      ]
     },
     "execution_count": 1831057233,
     "metadata": {
      "output_tag": "y"
     },
     "output_type": "execute_result"
    }
   ],
   "source": [
    "y = 3 * 4"
   ]
  },
  {
   "cell_type": "code",
   "execution_count": 4248419359,
   "id": "fd39bc1f-6834-4146-99f4-94b0b114e83b",
   "metadata": {
    "dfmetadata": {
     "inputVars": {
      "ref": {
       "e4b00840": [
        "y"
       ]
      },
      "tag_refs": {
       "e4b00840": "first"
      }
     },
     "outputVars": [],
     "persistentCode": "y$e4b00840 ** 2",
     "tag": ""
    }
   },
   "outputs": [
    {
     "data": {
      "text/plain": [
       "4"
      ]
     },
     "execution_count": 4248419359,
     "metadata": {},
     "output_type": "execute_result"
    }
   ],
   "source": [
    "y$first ** 2"
   ]
  },
  {
   "cell_type": "markdown",
   "id": "f0182cf4-3769-4492-8e63-d4f43cf23a37",
   "metadata": {},
   "source": [
    "Cell names must be unique in a given notebook but they are not permanent. This means that you can change the name of a cell or move a name from one cell to another. The cell's unique hexadecimal identifier will always remain the same, and all code is persisted with that identifier. Thus, we automatically check and update the displayed code in any cell to match the new or changed names."
   ]
  },
  {
   "cell_type": "markdown",
   "id": "74f87401-fe8f-46a6-860d-1db791eabd20",
   "metadata": {},
   "source": [
    "## Functions, Classes, and Modules"
   ]
  },
  {
   "cell_type": "markdown",
   "id": "21135039-6395-46f2-af2e-5ce85cd8dab3",
   "metadata": {},
   "source": [
    "As Python functions, classes, and modules all have associated identifiers, the same rules that apply to a variable apply to these entities. Thus, if you want to use a function or class defined in one cell in another, you need to make sure it is listed on the last line in addition."
   ]
  },
  {
   "cell_type": "code",
   "execution_count": 3130517244,
   "id": "ba97e6fc-5ec8-4a39-994d-a23cfe703993",
   "metadata": {
    "dfmetadata": {
     "inputVars": {
      "ref": {},
      "tag_refs": {}
     },
     "outputVars": [
      "f"
     ],
     "persistentCode": "def f(x):\n    return x ** 2\nf",
     "tag": ""
    }
   },
   "outputs": [
    {
     "data": {
      "text/plain": [
       "<function __main__.__closure__.<locals>.f(x)>"
      ]
     },
     "execution_count": 3130517244,
     "metadata": {
      "output_tag": "f"
     },
     "output_type": "execute_result"
    }
   ],
   "source": [
    "def f(x):\n",
    "    return x ** 2\n",
    "f"
   ]
  },
  {
   "cell_type": "code",
   "execution_count": 1042737090,
   "id": "3e26e7c2-93c6-4aed-9d44-75df4a321da0",
   "metadata": {
    "dfmetadata": {
     "inputVars": {
      "ref": {},
      "tag_refs": {}
     },
     "outputVars": [
      "Point"
     ],
     "persistentCode": "class Point:\n    def __init__(self, x, y):\n        self.x = x\n        self.y = y\nPoint",
     "tag": ""
    }
   },
   "outputs": [
    {
     "data": {
      "text/plain": [
       "__main__.__closure__.<locals>.Point"
      ]
     },
     "execution_count": 1042737090,
     "metadata": {
      "output_tag": "Point"
     },
     "output_type": "execute_result"
    }
   ],
   "source": [
    "class Point:\n",
    "    def __init__(self, x, y):\n",
    "        self.x = x\n",
    "        self.y = y\n",
    "Point"
   ]
  },
  {
   "cell_type": "markdown",
   "id": "e2e4534b-8e70-481f-8c6d-6556cbc4b943",
   "metadata": {},
   "source": [
    "For imported modules, it becomes a bit tedious to list all imported identifiers twice so the notebook detects any imports and **automatically** classifies them as outputs."
   ]
  },
  {
   "cell_type": "code",
   "execution_count": 1539372238,
   "id": "5bc0f4ce-6374-417d-8f77-ae3c2543b20e",
   "metadata": {
    "dfmetadata": {
     "inputVars": {
      "ref": {},
      "tag_refs": {}
     },
     "outputVars": [
      "Counter",
      "collections",
      "[5bc0f4ce]"
     ],
     "persistentCode": "import collections.abc\nfrom collections import Counter\n\n3 + 4",
     "tag": ""
    }
   },
   "outputs": [
    {
     "data": {
      "text/plain": [
       "collections.Counter"
      ]
     },
     "execution_count": 1539372238,
     "metadata": {
      "output_tag": "Counter"
     },
     "output_type": "execute_result"
    },
    {
     "data": {
      "text/plain": [
       "<module 'collections' from '/Users/dakoop/Applications/mambaforge/envs/dfnb-combined-test-install/lib/python3.13/collections/__init__.py'>"
      ]
     },
     "execution_count": 1539372238,
     "metadata": {
      "output_tag": "collections"
     },
     "output_type": "execute_result"
    },
    {
     "data": {
      "text/plain": [
       "7"
      ]
     },
     "execution_count": 1539372238,
     "metadata": {
      "output_tag": "[5bc0f4ce]"
     },
     "output_type": "execute_result"
    }
   ],
   "source": [
    "import collections.abc\n",
    "from collections import Counter\n",
    "\n",
    "3 + 4"
   ]
  },
  {
   "cell_type": "code",
   "execution_count": null,
   "id": "54f29a29-d15a-4605-a907-646c2ab65594",
   "metadata": {
    "dfmetadata": {
     "inputVars": {
      "ref": {},
      "tag_refs": {}
     },
     "outputVars": [],
     "persistentCode": "",
     "tag": ""
    }
   },
   "outputs": [],
   "source": []
  }
 ],
 "metadata": {
  "dfnotebook": true,
  "enable_tags": true,
  "kernelspec": {
   "display_name": "DFPython 3",
   "language": "python",
   "name": "dfpython3"
  },
  "language_info": {
   "codemirror_mode": {
    "name": "ipython",
    "version": 3
   },
   "file_extension": ".py",
   "mimetype": "text/x-python",
   "name": "python",
   "nbconvert_exporter": "python",
   "pygments_lexer": "ipython3",
   "version": "3.13.2"
  }
 },
 "nbformat": 4,
 "nbformat_minor": 5
}
