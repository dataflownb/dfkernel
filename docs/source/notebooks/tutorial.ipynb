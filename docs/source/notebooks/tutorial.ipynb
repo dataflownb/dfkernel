{
 "cells": [
  {
   "cell_type": "markdown",
   "id": "7713e05f-a5a6-4134-b9f0-90de0778c0cd",
   "metadata": {},
   "source": [
    "# User Tutorial"
   ]
  },
  {
   "cell_type": "markdown",
   "id": "bdb8d9c2-5f34-4af5-a035-4c8be714010f",
   "metadata": {},
   "source": [
    "Dataflow Notebooks is an extension of Jupyter Notebooks so we highly recommend you have an understanding of how to use Jupyter first. You can read their documentation [here](https://jupyterlab.readthedocs.io/en/latest/) first if you would like."
   ]
  },
  {
   "cell_type": "markdown",
   "id": "254f90e9-85aa-4f0e-aae9-0030f84d6b6a",
   "metadata": {},
   "source": [
    "## Variables"
   ]
  },
  {
   "cell_type": "code",
   "execution_count": 1667625385,
   "id": "6365f1a9-011e-4dff-a802-5bb4aec643ec",
   "metadata": {},
   "outputs": [
    {
     "data": {
      "text/plain": [
       "3"
      ]
     },
     "execution_count": 1667625385,
     "metadata": {
      "output_tag": "a"
     },
     "output_type": "execute_result"
    }
   ],
   "source": [
    "a = 3"
   ]
  },
  {
   "cell_type": "code",
   "execution_count": 2087449302,
   "id": "7c6bf2d6-eb36-40b0-b68c-a30b732fe57f",
   "metadata": {},
   "outputs": [
    {
     "data": {
      "text/plain": [
       "3"
      ]
     },
     "execution_count": 2087449302,
     "metadata": {},
     "output_type": "execute_result"
    }
   ],
   "source": [
    "a$6365f1a9"
   ]
  },
  {
   "cell_type": "markdown",
   "id": "b7dfca2e-4bc2-4617-9149-abba90f7b849",
   "metadata": {},
   "source": [
    "In a normal notebook, reusing variable names can cause issues. We found a solution to that by adding a custom `var$[id]` syntax. This allows for reusability of variables and a clear syntax to show which variable is being used. Upon creation an 8 digit hex code is created which is the id to reference the variable. You may create a custom tag which will be shown at a later cell."
   ]
  },
  {
   "cell_type": "code",
   "execution_count": 2774560732,
   "id": "a5606fdc-69bd-4357-a18a-ae71dd0d1d00",
   "metadata": {},
   "outputs": [
    {
     "data": {
      "text/plain": [
       "100"
      ]
     },
     "execution_count": 2774560732,
     "metadata": {
      "output_tag": "c"
     },
     "output_type": "execute_result"
    }
   ],
   "source": [
    "b = 10\n",
    "c = 100"
   ]
  },
  {
   "cell_type": "code",
   "execution_count": 1489486416,
   "id": "58c7c250-1a18-4aa8-93a5-879bfb01cf45",
   "metadata": {},
   "outputs": [
    {
     "ename": "NameError",
     "evalue": "name 'b' is not defined",
     "output_type": "error",
     "traceback": [
      "\u001b[1;31m---------------------------------------------------------------------------\u001b[0m",
      "\u001b[1;31mNameError\u001b[0m                                 Traceback (most recent call last)",
      "Cell \u001b[1;32mIn[3], line 1\u001b[0m\n\u001b[1;32m----> 1\u001b[0m b\n",
      "Cell \u001b[1;32mIn[3], line 1\u001b[0m, in \u001b[0;36m__closure__\u001b[1;34m()\u001b[0m\n\u001b[1;32m----> 1\u001b[0m b\n",
      "\u001b[1;31mNameError\u001b[0m: name 'b' is not defined"
     ]
    }
   ],
   "source": [
    "b"
   ]
  },
  {
   "cell_type": "markdown",
   "id": "f1eab7e8-1685-4580-8aae-fbf85175f335",
   "metadata": {},
   "source": [
    "Dataflow Notebooks uses outputs as references for variables so if you would like to use a variable outside of a cell, you must reference it at the end of the cell. You can think of `var$[id1]` and `var$[id2]` as 2 separate variables with 2 separate values. We allow this because it makes it easier to know which value you are using. When overwriting variables in jupyter labs it can be confusing, we want to create a straight-forward and easy way to track where your data is coming from inside the notebook. More on this [here](../notebooks/we-do-better.ipynb)"
   ]
  },
  {
   "cell_type": "markdown",
   "id": "51a900e2-f52e-4859-ba74-0402b2a9c533",
   "metadata": {},
   "source": [
    "## Functions and Classes"
   ]
  },
  {
   "cell_type": "code",
   "execution_count": 65198436,
   "id": "03e2d964-4727-4149-aad9-e1faa9dc0f21",
   "metadata": {},
   "outputs": [
    {
     "data": {
      "text/plain": [
       "<function __main__.__closure__.<locals>.func()>"
      ]
     },
     "execution_count": 65198436,
     "metadata": {
      "output_tag": "func"
     },
     "output_type": "execute_result"
    }
   ],
   "source": [
    "def func():\n",
    "    return 7 + 10\n",
    "\n",
    "func"
   ]
  },
  {
   "cell_type": "code",
   "execution_count": 1382459579,
   "id": "5266a8bb-2066-4688-ad79-f76a2a31ddcf",
   "metadata": {},
   "outputs": [
    {
     "data": {
      "text/plain": [
       "17"
      ]
     },
     "execution_count": 1382459579,
     "metadata": {},
     "output_type": "execute_result"
    }
   ],
   "source": [
    "func$03e2d964()"
   ]
  },
  {
   "cell_type": "code",
   "execution_count": 2389278155,
   "id": "8e697dcb-b40f-4a7e-846e-d40abb12fd2c",
   "metadata": {},
   "outputs": [
    {
     "data": {
      "text/plain": [
       "__main__.__closure__.<locals>.some_class"
      ]
     },
     "execution_count": 2389278155,
     "metadata": {
      "output_tag": "some_class"
     },
     "output_type": "execute_result"
    }
   ],
   "source": [
    "class some_class():\n",
    "    def __init__(self, a='John', b=37):\n",
    "        self.name = a\n",
    "        self.age = b\n",
    "\n",
    "some_class"
   ]
  },
  {
   "cell_type": "code",
   "execution_count": 1430000182,
   "id": "553c1236-1bb0-4d98-afc9-f388fdb881b3",
   "metadata": {},
   "outputs": [
    {
     "data": {
      "text/plain": [
       "'John'"
      ]
     },
     "execution_count": 1430000182,
     "metadata": {
      "output_tag": "[553c1236][0]"
     },
     "output_type": "execute_result"
    },
    {
     "data": {
      "text/plain": [
       "37"
      ]
     },
     "execution_count": 1430000182,
     "metadata": {
      "output_tag": "[553c1236][1]"
     },
     "output_type": "execute_result"
    }
   ],
   "source": [
    "obj = some_class$8e697dcb()\n",
    "obj.name, obj.age"
   ]
  },
  {
   "cell_type": "markdown",
   "id": "ef684205-030c-4fff-8a02-4bade289fbc5",
   "metadata": {},
   "source": [
    "Because Dataflow Notebooks uses output-based references you nave to call your classes and functions at the end of the cell otherwise it will cause an error."
   ]
  },
  {
   "cell_type": "code",
   "execution_count": 1008246814,
   "id": "3c18a01e-87e7-4bac-bce3-ccaaf8f806d6",
   "metadata": {},
   "outputs": [
    {
     "data": {
      "text/plain": [
       "<function __main__.__closure__.<locals>.another_func()>"
      ]
     },
     "execution_count": 1008246814,
     "metadata": {
      "output_tag": "another_func"
     },
     "output_type": "execute_result"
    },
    {
     "data": {
      "text/plain": [
       "<function __main__.__closure__.<locals>.some_other_func()>"
      ]
     },
     "execution_count": 1008246814,
     "metadata": {
      "output_tag": "some_other_func"
     },
     "output_type": "execute_result"
    }
   ],
   "source": [
    "def another_func():\n",
    "    return 9+10\n",
    "\n",
    "def some_other_func():\n",
    "    return 100+18\n",
    "\n",
    "another_func, some_other_func"
   ]
  },
  {
   "cell_type": "code",
   "execution_count": 2645262828,
   "id": "9dab81ec-94a1-485f-ba3e-2092c48646d8",
   "metadata": {},
   "outputs": [
    {
     "data": {
      "text/plain": [
       "19"
      ]
     },
     "execution_count": 2645262828,
     "metadata": {
      "output_tag": "[9dab81ec][0]"
     },
     "output_type": "execute_result"
    },
    {
     "data": {
      "text/plain": [
       "118"
      ]
     },
     "execution_count": 2645262828,
     "metadata": {
      "output_tag": "[9dab81ec][1]"
     },
     "output_type": "execute_result"
    }
   ],
   "source": [
    "another_func$3c18a01e(), some_other_func$3c18a01e()"
   ]
  },
  {
   "cell_type": "markdown",
   "id": "ef0d6041-4d5b-45ae-9e40-6feb036a9aae",
   "metadata": {},
   "source": [
    "You may do more than one function in a cell, just remember to reference it at the end to allow for the Dataflow Notebooks to track user made variables, functions, and classes."
   ]
  },
  {
   "cell_type": "markdown",
   "id": "53bf35c1-b3a9-4779-8491-e56ca4764287",
   "metadata": {},
   "source": [
    "## Tags"
   ]
  },
  {
   "cell_type": "markdown",
   "id": "5ca713d1-4905-4beb-afab-80b1de7853e3",
   "metadata": {},
   "source": [
    "Upon initial creation of a cell there is an ID generated. This ID is an 8 digit hex code that is used after the $ to reference the cell. These IDs can be tagged by right clicking on the ID to allow for easier user interactions.</br></br>\n",
    "Restrictions:</br>\n",
    "&emsp; - Cannot be 8 hex digits</br>\n",
    "&emsp; - Must follow python convention"
   ]
  },
  {
   "cell_type": "code",
   "execution_count": 3772990021,
   "id": "e0e34245-f2b1-41e5-8924-6b302884f832",
   "metadata": {
    "tag": "tag"
   },
   "outputs": [
    {
     "data": {
      "text/plain": [
       "10"
      ]
     },
     "execution_count": 3772990021,
     "metadata": {
      "output_tag": "a"
     },
     "output_type": "execute_result"
    }
   ],
   "source": [
    "a = 10"
   ]
  },
  {
   "cell_type": "code",
   "execution_count": 853526658,
   "id": "32dfc882-6376-47bb-bf83-3ccd1243fefd",
   "metadata": {},
   "outputs": [
    {
     "data": {
      "text/plain": [
       "100"
      ]
     },
     "execution_count": 853526658,
     "metadata": {
      "output_tag": "a"
     },
     "output_type": "execute_result"
    }
   ],
   "source": [
    "a = 100"
   ]
  },
  {
   "cell_type": "code",
   "execution_count": 3162013840,
   "id": "bc788090-d535-463d-bf2b-68ede81e3f54",
   "metadata": {},
   "outputs": [
    {
     "data": {
      "text/plain": [
       "10"
      ]
     },
     "execution_count": 3162013840,
     "metadata": {
      "output_tag": "[bc788090][0]"
     },
     "output_type": "execute_result"
    },
    {
     "data": {
      "text/plain": [
       "100"
      ]
     },
     "execution_count": 3162013840,
     "metadata": {
      "output_tag": "[bc788090][1]"
     },
     "output_type": "execute_result"
    }
   ],
   "source": [
    "a$tag$e0e34245, a$32dfc882"
   ]
  },
  {
   "cell_type": "markdown",
   "id": "33124dd0-ba7b-4e24-a5ce-32e37d1dae62",
   "metadata": {},
   "source": [
    "## Imports"
   ]
  },
  {
   "cell_type": "code",
   "execution_count": 1191102803,
   "id": "46fec953-638a-4119-b8c1-3d847b3b5a3b",
   "metadata": {},
   "outputs": [
    {
     "data": {
      "text/plain": [
       "<module 'time' (built-in)>"
      ]
     },
     "execution_count": 1191102803,
     "metadata": {
      "output_tag": "time"
     },
     "output_type": "execute_result"
    },
    {
     "data": {
      "text/plain": [
       "9"
      ]
     },
     "execution_count": 1191102803,
     "metadata": {
      "output_tag": "z"
     },
     "output_type": "execute_result"
    }
   ],
   "source": [
    "import time\n",
    "\n",
    "z=9"
   ]
  },
  {
   "cell_type": "markdown",
   "id": "18c090e6-8569-4a8e-869f-c43a5d725761",
   "metadata": {},
   "source": [
    "Imports are automatically recognized and pushed to the output so you don't need to reference them at the end of your cell."
   ]
  },
  {
   "cell_type": "code",
   "execution_count": 1243399285,
   "id": "4a1cc475-7ebe-4075-b793-72f5880d5cc4",
   "metadata": {},
   "outputs": [
    {
     "data": {
      "text/plain": [
       "time.struct_time(tm_year=2024, tm_mon=7, tm_mday=23, tm_hour=13, tm_min=54, tm_sec=39, tm_wday=1, tm_yday=205, tm_isdst=1)"
      ]
     },
     "execution_count": 1243399285,
     "metadata": {},
     "output_type": "execute_result"
    }
   ],
   "source": [
    "z$46fec953\n",
    "time$46fec953.localtime()"
   ]
  },
  {
   "cell_type": "markdown",
   "id": "fa0bd4d0-05b7-4f48-ae40-fef180cffb42",
   "metadata": {},
   "source": [
    "## Minimap"
   ]
  },
  {
   "cell_type": "markdown",
   "id": "98e69b3e-aa28-4460-a201-495ca0629c9e",
   "metadata": {},
   "source": [
    "The minimap is in place to help give the user a visual representation of cell dependencies. You can see what is coming in and what is going out based on the black lines."
   ]
  },
  {
   "cell_type": "markdown",
   "id": "523bbcc0-2754-4dce-87ed-47a8bd94b81a",
   "metadata": {},
   "source": [
    "<img src=\"../notebooks/images/minimap.png\">"
   ]
  },
  {
   "cell_type": "markdown",
   "id": "13f37923-f83d-4ad9-9ed2-f8cfb1f9a839",
   "metadata": {},
   "source": [
    "## Dependency Viewer"
   ]
  },
  {
   "cell_type": "markdown",
   "id": "147bd74e-8b8f-43e1-890a-7a7eba635015",
   "metadata": {},
   "source": [
    "The Dependency Viewer is another tool to help the user see a visual map of what is downstream and upstream of their variables. When the line is red, that shows what is downstream. When the line is blue, upstream is being shown."
   ]
  },
  {
   "cell_type": "markdown",
   "id": "708d5485-9fda-43a9-8358-cbab6a976ef7",
   "metadata": {},
   "source": [
    "<img src=\"../notebooks/recordings/dependency-viewer-example.gif\">"
   ]
  }
 ],
 "metadata": {
  "dfnotebook": true,
  "kernelspec": {
   "display_name": "DFPython 3",
   "language": "python",
   "name": "dfpython3"
  },
  "language_info": {
   "codemirror_mode": {
    "name": "ipython",
    "version": 3
   },
   "file_extension": ".py",
   "mimetype": "text/x-python",
   "name": "python",
   "nbconvert_exporter": "python",
   "pygments_lexer": "ipython3",
   "version": "3.10.14"
  }
 },
 "nbformat": 4,
 "nbformat_minor": 5
}
