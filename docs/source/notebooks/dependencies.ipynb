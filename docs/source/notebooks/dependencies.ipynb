{
 "cells": [
  {
   "cell_type": "markdown",
   "id": "8291da8d-98c3-446c-9a1f-97eb49353a81",
   "metadata": {},
   "source": [
    "# Dependencies"
   ]
  },
  {
   "cell_type": "markdown",
   "id": "9b22e5e5-0336-47e4-9914-7c4d5efdb63d",
   "metadata": {},
   "source": [
    "When one cell references the output of another cell, there is a **dependency** from the referencing cell to the referenced cell."
   ]
  },
  {
   "cell_type": "code",
   "execution_count": 527365569,
   "id": "1f6ef5c1-2822-4a8d-a890-891d2c3986e5",
   "metadata": {
    "dfmetadata": {
     "inputVars": {
      "ref": {},
      "tag_refs": {}
     },
     "outputVars": [
      "a"
     ],
     "persistentCode": "a = 1",
     "tag": ""
    }
   },
   "outputs": [
    {
     "data": {
      "text/plain": [
       "1"
      ]
     },
     "execution_count": 527365569,
     "metadata": {
      "output_tag": "a"
     },
     "output_type": "execute_result"
    }
   ],
   "source": [
    "a = 1"
   ]
  },
  {
   "cell_type": "code",
   "execution_count": 1000331596,
   "id": "3b9fd94c-34b3-42ed-b1bc-ad2c8b48af74",
   "metadata": {
    "dfmetadata": {
     "inputVars": {
      "ref": {
       "1f6ef5c1": [
        "a"
       ]
      },
      "tag_refs": {}
     },
     "outputVars": [
      "b"
     ],
     "persistentCode": "b = a$1f6ef5c1 + 2",
     "tag": ""
    }
   },
   "outputs": [
    {
     "data": {
      "text/plain": [
       "3"
      ]
     },
     "execution_count": 1000331596,
     "metadata": {
      "output_tag": "b"
     },
     "output_type": "execute_result"
    }
   ],
   "source": [
    "b = a + 2"
   ]
  },
  {
   "cell_type": "markdown",
   "id": "23cc8b59-0a88-4c5e-82bf-8d4ce2ff5b04",
   "metadata": {},
   "source": [
    "In the above two cells, the second cell depends on the first cell because it references `a` which is an output of the first cell. In classic Jupyter notebooks, changing the code in the first cell (`a = 3`) would not change the value of `b` until **both** cells are re-executed. In a Dataflow Notebook, executing the second cell will automatically check that the first cell is up-to-date and has been executed before that the second cell is run.\n",
    "\n",
    "This behavior is transitive, so **all** upstream dependencies will be checked in order to make sure that their outputs align with the current code. So if we have a third cell that depends on `b`, changing `a` will require updates of all three cells."
   ]
  },
  {
   "cell_type": "code",
   "execution_count": 1000331596,
   "id": "f03a511c-e421-4910-bbd9-11c42d6ab9b3",
   "metadata": {
    "dfmetadata": {
     "inputVars": {
      "ref": {
       "3b9fd94c": [
        "b"
       ]
      },
      "tag_refs": {}
     },
     "outputVars": [
      "c"
     ],
     "persistentCode": "c = b$3b9fd94c + 3",
     "tag": ""
    }
   },
   "outputs": [
    {
     "data": {
      "text/plain": [
       "6"
      ]
     },
     "execution_count": 4030353692,
     "metadata": {
      "output_tag": "c"
     },
     "output_type": "execute_result"
    }
   ],
   "source": [
    "c = b + 3"
   ]
  },
  {
   "cell_type": "markdown",
   "id": "9d08f999-7277-405d-9a0f-da33ffed72cb",
   "metadata": {},
   "source": [
    "Note that this does not apply to the downstream direction. Making the change `b = a + 20` in the second cell and executing it will not automatically redefine `c`."
   ]
  },
  {
   "cell_type": "markdown",
   "id": "4e0b56d0-4762-42f8-bec7-866197cb53f7",
   "metadata": {},
   "source": [
    "## Cells with the Same Output"
   ]
  },
  {
   "cell_type": "markdown",
   "id": "882a4ef2-e656-4797-8971-31619df3ce7a",
   "metadata": {},
   "source": [
    "When two cells each have an output with the same name, we have an **ambiguous** reference. Upon executing another cell that references this name, the dataflow notebook will append a suffix starting with a `$` symbol and followed by either the cell's identifier or name. This referenced cell will always be the **most recently executed** one. "
   ]
  },
  {
   "cell_type": "code",
   "execution_count": 330905047,
   "id": "13b935d7-0a8b-46e6-977c-40ea244d8561",
   "metadata": {
    "dfmetadata": {
     "inputVars": {
      "ref": {},
      "tag_refs": {}
     },
     "outputVars": [
      "d"
     ],
     "persistentCode": "d = 1 + 2",
     "tag": ""
    }
   },
   "outputs": [
    {
     "data": {
      "text/plain": [
       "3"
      ]
     },
     "execution_count": 330905047,
     "metadata": {
      "output_tag": "d"
     },
     "output_type": "execute_result"
    }
   ],
   "source": [
    "d = 1 + 2"
   ]
  },
  {
   "cell_type": "code",
   "execution_count": 3545999048,
   "id": "d35ba6c8-57fd-4e1b-96a9-90f695b3950b",
   "metadata": {
    "dfmetadata": {
     "inputVars": {
      "ref": {},
      "tag_refs": {}
     },
     "outputVars": [
      "d"
     ],
     "persistentCode": "d = 3 + 4",
     "tag": ""
    }
   },
   "outputs": [
    {
     "data": {
      "text/plain": [
       "7"
      ]
     },
     "execution_count": 3545999048,
     "metadata": {
      "output_tag": "d"
     },
     "output_type": "execute_result"
    }
   ],
   "source": [
    "d = 3 + 4"
   ]
  },
  {
   "cell_type": "code",
   "execution_count": 2535756072,
   "id": "97249128-5fae-4728-b54b-a4fdd532154c",
   "metadata": {
    "dfmetadata": {
     "inputVars": {
      "ref": {
       "d35ba6c8": [
        "d"
       ]
      },
      "tag_refs": {}
     },
     "outputVars": [
      "e"
     ],
     "persistentCode": "e = d$d35ba6c8 ** 2",
     "tag": ""
    }
   },
   "outputs": [
    {
     "data": {
      "text/plain": [
       "49"
      ]
     },
     "execution_count": 2535756072,
     "metadata": {
      "output_tag": "e"
     },
     "output_type": "execute_result"
    }
   ],
   "source": [
    "e = d$d35ba6c8 ** 2"
   ]
  },
  {
   "cell_type": "markdown",
   "id": "c398fb6b-cdf5-427f-8ef4-85917dd7c9c3",
   "metadata": {},
   "source": [
    "However, users can refer to a different cell's output by adding the suffix themselves. Tab completion helps users add these identifiers more easily."
   ]
  },
  {
   "cell_type": "code",
   "execution_count": 3309871430,
   "id": "c548a146-1bf1-40fd-a307-3a0f88164430",
   "metadata": {
    "dfmetadata": {
     "inputVars": {
      "ref": {
       "13b935d7": [
        "d"
       ]
      },
      "tag_refs": {}
     },
     "outputVars": [
      "e"
     ],
     "persistentCode": "e = d$13b935d7 ** 2",
     "tag": ""
    }
   },
   "outputs": [
    {
     "data": {
      "text/plain": [
       "9"
      ]
     },
     "execution_count": 3309871430,
     "metadata": {
      "output_tag": "e"
     },
     "output_type": "execute_result"
    }
   ],
   "source": [
    "e = d$13b935d7 ** 2"
   ]
  },
  {
   "cell_type": "markdown",
   "id": "0c382293-2743-4d63-8695-060ccfda12ad",
   "metadata": {},
   "source": [
    "If one of the cells defining `d` is deleted, all future references are unambigious, but there may be cells that still reference the now deleted cell. We retain the original suffix which will raise an exception when the cell is re-executed. This allows users to either retarget the reference, remove the cell, or revise the code appropriately."
   ]
  },
  {
   "cell_type": "code",
   "execution_count": 344886683,
   "id": "148e8d9b-7191-4112-b724-2fec4f6bcf10",
   "metadata": {
    "dfmetadata": {
     "inputVars": {
      "ref": {
       "848b5bbb": [
        "d"
       ]
      },
      "tag_refs": {}
     },
     "outputVars": [],
     "persistentCode": "f = d$848b5bbb ** 2",
     "tag": ""
    }
   },
   "outputs": [
    {
     "ename": "KeyError",
     "evalue": "'848b5bbb'",
     "output_type": "error",
     "traceback": [
      "\u001b[31m---------------------------------------------------------------------------\u001b[39m",
      "\u001b[31mKeyError\u001b[39m                                  Traceback (most recent call last)",
      "\u001b[36mCell\u001b[39m\u001b[36m \u001b[39m\u001b[32mIn[23]\u001b[39m\u001b[32m, line 1\u001b[39m\n\u001b[32m----> \u001b[39m\u001b[32m1\u001b[39m f = _oh[\u001b[33m'\u001b[39m\u001b[33m848b5bbb\u001b[39m\u001b[33m'\u001b[39m][\u001b[33m'\u001b[39m\u001b[33md\u001b[39m\u001b[33m'\u001b[39m] ** \u001b[32m2\u001b[39m\n",
      "\u001b[36mCell\u001b[39m\u001b[36m \u001b[39m\u001b[32mIn[23]\u001b[39m\u001b[32m, line 1\u001b[39m, in \u001b[36m__closure__\u001b[39m\u001b[34m()\u001b[39m\n\u001b[32m----> \u001b[39m\u001b[32m1\u001b[39m f = \u001b[43m_oh\u001b[49m\u001b[43m[\u001b[49m\u001b[33;43m'\u001b[39;49m\u001b[33;43m848b5bbb\u001b[39;49m\u001b[33;43m'\u001b[39;49m\u001b[43m]\u001b[49m[\u001b[33m'\u001b[39m\u001b[33md\u001b[39m\u001b[33m'\u001b[39m] ** \u001b[32m2\u001b[39m\n",
      "\u001b[36mFile \u001b[39m\u001b[32m~/Applications/mambaforge/envs/dfnb-combined-test-install/lib/python3.13/site-packages/dfnotebook/kernel/dataflow.py:237\u001b[39m, in \u001b[36mDataflowHistoryManager.__getitem__\u001b[39m\u001b[34m(self, k)\u001b[39m\n\u001b[32m    236\u001b[39m \u001b[38;5;28;01mdef\u001b[39;00m\u001b[38;5;250m \u001b[39m\u001b[34m__getitem__\u001b[39m(\u001b[38;5;28mself\u001b[39m, k):\n\u001b[32m--> \u001b[39m\u001b[32m237\u001b[39m     res = \u001b[38;5;28;43mself\u001b[39;49m\u001b[43m.\u001b[49m\u001b[43mget_item\u001b[49m\u001b[43m(\u001b[49m\u001b[43mk\u001b[49m\u001b[43m)\u001b[49m\n\u001b[32m    238\u001b[39m     \u001b[38;5;28;01mif\u001b[39;00m \u001b[38;5;28misinstance\u001b[39m(res, LinkedResult):\n\u001b[32m    239\u001b[39m         \u001b[38;5;28;01mif\u001b[39;00m res.__tuple__() \u001b[38;5;129;01mis\u001b[39;00m \u001b[38;5;28;01mNone\u001b[39;00m:\n",
      "\u001b[36mFile \u001b[39m\u001b[32m~/Applications/mambaforge/envs/dfnb-combined-test-install/lib/python3.13/site-packages/dfnotebook/kernel/dataflow.py:266\u001b[39m, in \u001b[36mDataflowHistoryManager.get_item\u001b[39m\u001b[34m(self, k)\u001b[39m\n\u001b[32m    264\u001b[39m     \u001b[38;5;28;01mreturn\u001b[39;00m \u001b[38;5;28mself\u001b[39m.value_cache[k]\n\u001b[32m    265\u001b[39m \u001b[38;5;66;03m# print('executing cell', k)\u001b[39;00m\n\u001b[32m--> \u001b[39m\u001b[32m266\u001b[39m \u001b[38;5;28;01mreturn\u001b[39;00m \u001b[38;5;28;43mself\u001b[39;49m\u001b[43m.\u001b[49m\u001b[43mexecute_cell\u001b[49m\u001b[43m(\u001b[49m\u001b[43mk\u001b[49m\u001b[43m)\u001b[49m\n",
      "\u001b[36mFile \u001b[39m\u001b[32m~/Applications/mambaforge/envs/dfnb-combined-test-install/lib/python3.13/site-packages/dfnotebook/kernel/dataflow.py:219\u001b[39m, in \u001b[36mDataflowHistoryManager.execute_cell\u001b[39m\u001b[34m(self, k, **flags)\u001b[39m\n\u001b[32m    217\u001b[39m         \u001b[38;5;28;01mraise\u001b[39;00m CyclicalCallError(k)\n\u001b[32m    218\u001b[39m child_uuid = \u001b[38;5;28mself\u001b[39m.shell.uuid\n\u001b[32m--> \u001b[39m\u001b[32m219\u001b[39m retval = \u001b[38;5;28mself\u001b[39m.shell.run_cell_as_execute_request(\u001b[38;5;28;43mself\u001b[39;49m\u001b[43m.\u001b[49m\u001b[43mcode_cache\u001b[49m\u001b[43m[\u001b[49m\u001b[43mk\u001b[49m\u001b[43m]\u001b[49m, k,\n\u001b[32m    220\u001b[39m                                            **\u001b[38;5;28mself\u001b[39m.flags)\n\u001b[32m    221\u001b[39m \u001b[38;5;66;03m# print('retval:', retval)\u001b[39;00m\n\u001b[32m    222\u001b[39m \u001b[38;5;28mself\u001b[39m.shell.uuid = child_uuid\n",
      "\u001b[31mKeyError\u001b[39m: '848b5bbb'"
     ]
    }
   ],
   "source": [
    "f = d$848b5bbb ** 2"
   ]
  },
  {
   "cell_type": "markdown",
   "id": "6070f59e-9e7f-4f6e-9b37-26c8372bdd28",
   "metadata": {},
   "source": [
    "## Dependency Viewer"
   ]
  },
  {
   "cell_type": "markdown",
   "id": "e9f233b7-b63d-4141-b418-c721a6eb4fa6",
   "metadata": {},
   "source": [
    "While you should be able to derive the dependencies between cells from the code, this can be a cumbersome task. To help understand the relationships between cells, we provide graph and minimap visualizations. The graph visualization shows a node-link diagram which displays cells and their outputs and links the inputs for each cell to the corresponding outputs of the other cell. By highlighting a node, you can see all of the upstream or downstream dependencies of that cell."
   ]
  },
  {
   "cell_type": "markdown",
   "id": "7632b576-07ef-4059-9908-c5298845835e",
   "metadata": {},
   "source": [
    "<img src=\"recordings/dependency-viewer-example.gif\">"
   ]
  },
  {
   "cell_type": "markdown",
   "id": "710c3d10-a98b-4e9d-afb2-3776bac2a620",
   "metadata": {},
   "source": [
    "## Minimap"
   ]
  },
  {
   "cell_type": "markdown",
   "id": "ee54e24b-137b-41b8-8fd2-9950e71b2df3",
   "metadata": {},
   "source": [
    "The minimap visualization is inspired by [Observable](https://observablehq.com) and shows all cells in a vertical table. However, each row also has a dot for each cell along with a whisker to the left if there are upstream dependencies and whisker to the right if there are downstream dependencies. Selecting a cell/row highlights all of the upstream and downstream locations for that cell. The consistent layout allows a more compact view of the dependencies but does not provide the same overview that the graph visualization does."
   ]
  },
  {
   "cell_type": "code",
   "execution_count": null,
   "id": "8afbeeae-4973-4250-b7e1-0d38932289ef",
   "metadata": {
    "dfmetadata": {
     "inputVars": {
      "ref": {},
      "tag_refs": {}
     },
     "outputVars": [],
     "persistentCode": "",
     "tag": ""
    }
   },
   "outputs": [],
   "source": []
  }
 ],
 "metadata": {
  "dfnotebook": true,
  "enable_tags": true,
  "kernelspec": {
   "display_name": "DFPython 3",
   "language": "python",
   "name": "dfpython3"
  },
  "language_info": {
   "codemirror_mode": {
    "name": "ipython",
    "version": 3
   },
   "file_extension": ".py",
   "mimetype": "text/x-python",
   "name": "python",
   "nbconvert_exporter": "python",
   "pygments_lexer": "ipython3",
   "version": "3.13.2"
  }
 },
 "nbformat": 4,
 "nbformat_minor": 5
}
