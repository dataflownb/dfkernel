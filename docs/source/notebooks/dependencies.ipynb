{
 "cells": [
  {
   "cell_type": "markdown",
   "id": "8846345f-61ea-42e2-8416-ca55fce9ec55",
   "metadata": {},
   "source": [
    "# Dependencies and Dependency Viewer"
   ]
  },
  {
   "cell_type": "markdown",
   "id": "5413c20d-9efb-4eb7-972c-eec402ac3345",
   "metadata": {},
   "source": [
    "## Dependencies"
   ]
  },
  {
   "cell_type": "markdown",
   "id": "343aef21-0535-44e7-8deb-7a56f9b39b95",
   "metadata": {},
   "source": [
    "Dependencies in the notebook will execute upstreams if the code in an upstream cell changes. Code caches are checked to ensure that everything stays up to date."
   ]
  },
  {
   "cell_type": "code",
   "execution_count": 462274894,
   "id": "1b8dc14e-3f51-44a0-8f2d-b0ebef37b9e3",
   "metadata": {
    "dfmetadata": {
     "inputVars": {
      "ref": {},
      "tag_refs": {}
     },
     "outputVars": [
      "a"
     ],
     "persistentCode": "a=3",
     "tag": ""
    }
   },
   "outputs": [
    {
     "data": {
      "text/plain": [
       "3"
      ]
     },
     "execution_count": 462274894,
     "metadata": {
      "output_tag": "a"
     },
     "output_type": "execute_result"
    }
   ],
   "source": [
    "a=3"
   ]
  },
  {
   "cell_type": "code",
   "execution_count": 2566016505,
   "id": "98f24df9-d219-4ec3-98e7-4cc3add72d85",
   "metadata": {
    "dfmetadata": {
     "inputVars": {
      "ref": {
       "1b8dc14e": [
        "a"
       ]
      },
      "tag_refs": {}
     },
     "outputVars": [
      "b"
     ],
     "persistentCode": "b=_oh['1b8dc14e']['a']",
     "tag": ""
    }
   },
   "outputs": [
    {
     "data": {
      "text/plain": [
       "3"
      ]
     },
     "execution_count": 2566016505,
     "metadata": {
      "output_tag": "b"
     },
     "output_type": "execute_result"
    }
   ],
   "source": [
    "b=a$1b8dc14e"
   ]
  },
  {
   "cell_type": "markdown",
   "id": "2eab2190-013c-4506-a5e4-97f54381a6cf",
   "metadata": {},
   "source": [
    "Upon changing a to be a different value such as a=2 and executing Cell[1b8dc14e], Cell[98f24df9] will immediatly execute to ensure that b now returns 6 instead.\n",
    "\n",
    "**How this works**: We use the variable$[identifier] syntax to allow for a user to explicitly state which version of a variable they want to use."
   ]
  },
  {
   "cell_type": "code",
   "execution_count": 3735383889,
   "id": "dea56f51-6fd8-4e4a-8630-24119027fb0a",
   "metadata": {
    "dfmetadata": {
     "inputVars": {
      "ref": {},
      "tag_refs": {}
     },
     "outputVars": [
      "a"
     ],
     "persistentCode": "a=100",
     "tag": ""
    }
   },
   "outputs": [
    {
     "data": {
      "text/plain": [
       "100"
      ]
     },
     "execution_count": 3735383889,
     "metadata": {
      "output_tag": "a"
     },
     "output_type": "execute_result"
    }
   ],
   "source": [
    "a=100"
   ]
  },
  {
   "cell_type": "code",
   "execution_count": 2442860398,
   "id": "919b176e-1ab5-49ad-9d90-d7816b596e2a",
   "metadata": {
    "dfmetadata": {
     "inputVars": {
      "ref": {
       "1b8dc14e": [
        "a"
       ]
      },
      "tag_refs": {}
     },
     "outputVars": [
      {}
     ],
     "persistentCode": "_oh['1b8dc14e']['a']",
     "tag": ""
    }
   },
   "outputs": [
    {
     "data": {
      "text/plain": [
       "3"
      ]
     },
     "execution_count": 2442860398,
     "metadata": {},
     "output_type": "execute_result"
    }
   ],
   "source": [
    "a$1b8dc14e"
   ]
  },
  {
   "cell_type": "markdown",
   "id": "b9abaac0-4876-493a-a7bc-1a41d96ab4dd",
   "metadata": {},
   "source": [
    "## Dependency Viewer"
   ]
  },
  {
   "cell_type": "markdown",
   "id": "e77b2f01-9c40-4e81-be13-5d9690a0c14a",
   "metadata": {},
   "source": [
    "The dependency viewer is meant to help a user see which cells are being executed in relation to a selected cell. To open the dependency viewer, you must click on “Open Dependency Viewer” in the toolbar."
   ]
  },
  {
   "cell_type": "markdown",
   "id": "543eeb78-7757-4593-9bb6-4ee42de4e07f",
   "metadata": {},
   "source": [
    "In the below example, we show a basic example of how the dependency viewer works."
   ]
  },
  {
   "cell_type": "markdown",
   "id": "07dfef52-c71c-4dce-8523-fe0173d56538",
   "metadata": {},
   "source": [
    "<img src=\"recordings/dependency-viewer-example.gif\">"
   ]
  },
  {
   "cell_type": "markdown",
   "id": "4c3a5f0e-cf92-4292-a83c-8c1da17ebbf6",
   "metadata": {},
   "source": [
    "When hovering a cell in the dependency viewer, the red lines show what is downstream to that cell and the blue lines show what is upstream. The dependency viewer updates when you run cells."
   ]
  }
 ],
 "metadata": {
  "dfnotebook": true,
  "enable_tags": true,
  "kernelspec": {
   "display_name": "DFPython 3",
   "language": "python",
   "name": "dfpython3"
  },
  "language_info": {
   "codemirror_mode": {
    "name": "ipython",
    "version": 3
   },
   "file_extension": ".py",
   "mimetype": "text/x-python",
   "name": "python",
   "nbconvert_exporter": "python",
   "pygments_lexer": "ipython3",
   "version": "3.10.14"
  }
 },
 "nbformat": 4,
 "nbformat_minor": 5
}
